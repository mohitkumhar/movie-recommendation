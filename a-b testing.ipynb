{
 "cells": [
  {
   "cell_type": "code",
   "execution_count": 1,
   "id": "7818928d-02bb-4b39-816f-7549810b5e90",
   "metadata": {},
   "outputs": [],
   "source": [
    "from pymongo import MongoClient\n",
    "import pandas as pd\n",
    "from matplotlib import pyplot as plt"
   ]
  },
  {
   "cell_type": "code",
   "execution_count": 2,
   "id": "144d8d3f-2693-4096-83fa-1c7cc12eea5d",
   "metadata": {},
   "outputs": [],
   "source": [
    "# Connect to MongoDB and load all logs into a DataFrame\n",
    "client = MongoClient('mongodb://localhost:27017/')\n",
    "db = client['user_db']\n",
    "logs_collection = db['user_logs']"
   ]
  },
  {
   "cell_type": "code",
   "execution_count": null,
   "id": "9c821edc-4f1b-4ebc-accb-8297addac0c3",
   "metadata": {},
   "outputs": [],
   "source": []
  },
  {
   "cell_type": "code",
   "execution_count": 3,
   "id": "0b2c66c7-57a6-4a3e-baac-2c40a6707b48",
   "metadata": {},
   "outputs": [],
   "source": [
    "logs = pd.DataFrame(list(logs_collection.find()))"
   ]
  },
  {
   "cell_type": "code",
   "execution_count": 4,
   "id": "8da7f517-5103-45c7-8b20-231c1bc9a840",
   "metadata": {},
   "outputs": [
    {
     "data": {
      "text/html": [
       "<div>\n",
       "<style scoped>\n",
       "    .dataframe tbody tr th:only-of-type {\n",
       "        vertical-align: middle;\n",
       "    }\n",
       "\n",
       "    .dataframe tbody tr th {\n",
       "        vertical-align: top;\n",
       "    }\n",
       "\n",
       "    .dataframe thead th {\n",
       "        text-align: right;\n",
       "    }\n",
       "</style>\n",
       "<table border=\"1\" class=\"dataframe\">\n",
       "  <thead>\n",
       "    <tr style=\"text-align: right;\">\n",
       "      <th></th>\n",
       "      <th>_id</th>\n",
       "      <th>user</th>\n",
       "      <th>action</th>\n",
       "      <th>details</th>\n",
       "      <th>timestamp</th>\n",
       "    </tr>\n",
       "  </thead>\n",
       "  <tbody>\n",
       "    <tr>\n",
       "      <th>0</th>\n",
       "      <td>6868331278b9f6fa6049f95d</td>\n",
       "      <td>{'userId': 4, 'username': 'arjun'}</td>\n",
       "      <td>login</td>\n",
       "      <td>{}</td>\n",
       "      <td>2025-06-28 03:03:08.327</td>\n",
       "    </tr>\n",
       "    <tr>\n",
       "      <th>1</th>\n",
       "      <td>6868331278b9f6fa6049f96b</td>\n",
       "      <td>{'userId': 10, 'username': 'manish'}</td>\n",
       "      <td>logout</td>\n",
       "      <td>{}</td>\n",
       "      <td>2025-07-02 12:14:13.208</td>\n",
       "    </tr>\n",
       "    <tr>\n",
       "      <th>2</th>\n",
       "      <td>6868331278b9f6fa6049f96c</td>\n",
       "      <td>{'userId': 5, 'username': 'aditya'}</td>\n",
       "      <td>logout</td>\n",
       "      <td>{}</td>\n",
       "      <td>2025-07-03 22:04:16.099</td>\n",
       "    </tr>\n",
       "    <tr>\n",
       "      <th>3</th>\n",
       "      <td>6868331278b9f6fa6049f961</td>\n",
       "      <td>{'userId': 2, 'username': 'arjun'}</td>\n",
       "      <td>logout</td>\n",
       "      <td>{}</td>\n",
       "      <td>2025-07-01 23:35:05.570</td>\n",
       "    </tr>\n",
       "    <tr>\n",
       "      <th>4</th>\n",
       "      <td>6868331278b9f6fa6049f965</td>\n",
       "      <td>{'userId': 8, 'username': 'vikram'}</td>\n",
       "      <td>save_ratings</td>\n",
       "      <td>{'watched_movies': ['1', '23', '45'], 'rated_m...</td>\n",
       "      <td>2025-07-01 11:59:55.407</td>\n",
       "    </tr>\n",
       "    <tr>\n",
       "      <th>...</th>\n",
       "      <td>...</td>\n",
       "      <td>...</td>\n",
       "      <td>...</td>\n",
       "      <td>...</td>\n",
       "      <td>...</td>\n",
       "    </tr>\n",
       "    <tr>\n",
       "      <th>396</th>\n",
       "      <td>686833e47625b794f0ac97f2</td>\n",
       "      <td>{'userId': 3, 'username': 'rohan'}</td>\n",
       "      <td>request recommendation</td>\n",
       "      <td>{'type': 'Collaborative Recommendation'}</td>\n",
       "      <td>2025-06-30 08:48:09.504</td>\n",
       "    </tr>\n",
       "    <tr>\n",
       "      <th>397</th>\n",
       "      <td>6868e14d466cd2bd42d877d7</td>\n",
       "      <td>mohit</td>\n",
       "      <td>logout</td>\n",
       "      <td>{}</td>\n",
       "      <td>2025-07-05 13:54:45.891</td>\n",
       "    </tr>\n",
       "    <tr>\n",
       "      <th>398</th>\n",
       "      <td>686833e47625b794f0ac97f3</td>\n",
       "      <td>{'userId': 10, 'username': 'manish'}</td>\n",
       "      <td>save_ratings</td>\n",
       "      <td>{'watched_movies': ['12', '34'], 'rated_movies...</td>\n",
       "      <td>2025-07-01 02:02:22.290</td>\n",
       "    </tr>\n",
       "    <tr>\n",
       "      <th>399</th>\n",
       "      <td>686833e47625b794f0ac97ec</td>\n",
       "      <td>{'userId': 2, 'username': 'arjun'}</td>\n",
       "      <td>save_ratings</td>\n",
       "      <td>{'watched_movies': ['12', '34'], 'rated_movies...</td>\n",
       "      <td>2025-07-03 23:31:00.093</td>\n",
       "    </tr>\n",
       "    <tr>\n",
       "      <th>400</th>\n",
       "      <td>686833e47625b794f0ac97f6</td>\n",
       "      <td>{'userId': 9, 'username': 'aarav'}</td>\n",
       "      <td>logout</td>\n",
       "      <td>{}</td>\n",
       "      <td>2025-07-03 13:43:42.964</td>\n",
       "    </tr>\n",
       "  </tbody>\n",
       "</table>\n",
       "<p>401 rows × 5 columns</p>\n",
       "</div>"
      ],
      "text/plain": [
       "                          _id                                  user  \\\n",
       "0    6868331278b9f6fa6049f95d    {'userId': 4, 'username': 'arjun'}   \n",
       "1    6868331278b9f6fa6049f96b  {'userId': 10, 'username': 'manish'}   \n",
       "2    6868331278b9f6fa6049f96c   {'userId': 5, 'username': 'aditya'}   \n",
       "3    6868331278b9f6fa6049f961    {'userId': 2, 'username': 'arjun'}   \n",
       "4    6868331278b9f6fa6049f965   {'userId': 8, 'username': 'vikram'}   \n",
       "..                        ...                                   ...   \n",
       "396  686833e47625b794f0ac97f2    {'userId': 3, 'username': 'rohan'}   \n",
       "397  6868e14d466cd2bd42d877d7                                 mohit   \n",
       "398  686833e47625b794f0ac97f3  {'userId': 10, 'username': 'manish'}   \n",
       "399  686833e47625b794f0ac97ec    {'userId': 2, 'username': 'arjun'}   \n",
       "400  686833e47625b794f0ac97f6    {'userId': 9, 'username': 'aarav'}   \n",
       "\n",
       "                     action  \\\n",
       "0                     login   \n",
       "1                    logout   \n",
       "2                    logout   \n",
       "3                    logout   \n",
       "4              save_ratings   \n",
       "..                      ...   \n",
       "396  request recommendation   \n",
       "397                  logout   \n",
       "398            save_ratings   \n",
       "399            save_ratings   \n",
       "400                  logout   \n",
       "\n",
       "                                               details               timestamp  \n",
       "0                                                   {} 2025-06-28 03:03:08.327  \n",
       "1                                                   {} 2025-07-02 12:14:13.208  \n",
       "2                                                   {} 2025-07-03 22:04:16.099  \n",
       "3                                                   {} 2025-07-01 23:35:05.570  \n",
       "4    {'watched_movies': ['1', '23', '45'], 'rated_m... 2025-07-01 11:59:55.407  \n",
       "..                                                 ...                     ...  \n",
       "396           {'type': 'Collaborative Recommendation'} 2025-06-30 08:48:09.504  \n",
       "397                                                 {} 2025-07-05 13:54:45.891  \n",
       "398  {'watched_movies': ['12', '34'], 'rated_movies... 2025-07-01 02:02:22.290  \n",
       "399  {'watched_movies': ['12', '34'], 'rated_movies... 2025-07-03 23:31:00.093  \n",
       "400                                                 {} 2025-07-03 13:43:42.964  \n",
       "\n",
       "[401 rows x 5 columns]"
      ]
     },
     "execution_count": 4,
     "metadata": {},
     "output_type": "execute_result"
    }
   ],
   "source": [
    "logs"
   ]
  },
  {
   "cell_type": "code",
   "execution_count": 5,
   "id": "a8095174-6c4c-4a0d-bde3-587f96f93bab",
   "metadata": {},
   "outputs": [
    {
     "data": {
      "text/plain": [
       "(401, 5)"
      ]
     },
     "execution_count": 5,
     "metadata": {},
     "output_type": "execute_result"
    }
   ],
   "source": [
    "logs.shape"
   ]
  },
  {
   "cell_type": "code",
   "execution_count": 6,
   "id": "68de88e6-7bd0-43b3-b397-2c68503eb0cc",
   "metadata": {},
   "outputs": [],
   "source": [
    "logs['timestamp'] = pd.to_datetime(logs['timestamp'])"
   ]
  },
  {
   "cell_type": "code",
   "execution_count": 7,
   "id": "02a2d62b-f795-4597-a004-09ce7dd4efcf",
   "metadata": {},
   "outputs": [],
   "source": [
    "# Extract username into its own column\n",
    "logs['username'] = logs['user'].apply(\n",
    "    lambda u: u.get('username') if isinstance(u, dict) else None\n",
    ")"
   ]
  },
  {
   "cell_type": "code",
   "execution_count": 8,
   "id": "49af8907-e14c-42db-beea-3d77587be1e4",
   "metadata": {},
   "outputs": [],
   "source": [
    "reqs = logs[logs['action'] == 'request recommendation']"
   ]
  },
  {
   "cell_type": "code",
   "execution_count": 9,
   "id": "5b94cdcb-3699-4f1e-89e8-becb6ee98f7e",
   "metadata": {},
   "outputs": [
    {
     "data": {
      "text/html": [
       "<div>\n",
       "<style scoped>\n",
       "    .dataframe tbody tr th:only-of-type {\n",
       "        vertical-align: middle;\n",
       "    }\n",
       "\n",
       "    .dataframe tbody tr th {\n",
       "        vertical-align: top;\n",
       "    }\n",
       "\n",
       "    .dataframe thead th {\n",
       "        text-align: right;\n",
       "    }\n",
       "</style>\n",
       "<table border=\"1\" class=\"dataframe\">\n",
       "  <thead>\n",
       "    <tr style=\"text-align: right;\">\n",
       "      <th></th>\n",
       "      <th>_id</th>\n",
       "      <th>user</th>\n",
       "      <th>action</th>\n",
       "      <th>details</th>\n",
       "      <th>timestamp</th>\n",
       "      <th>username</th>\n",
       "    </tr>\n",
       "  </thead>\n",
       "  <tbody>\n",
       "    <tr>\n",
       "      <th>9</th>\n",
       "      <td>6868331278b9f6fa6049f972</td>\n",
       "      <td>{'userId': 7, 'username': 'rahul'}</td>\n",
       "      <td>request recommendation</td>\n",
       "      <td>{'type': 'Content-Based Recommendation'}</td>\n",
       "      <td>2025-06-30 10:44:43.443</td>\n",
       "      <td>rahul</td>\n",
       "    </tr>\n",
       "    <tr>\n",
       "      <th>14</th>\n",
       "      <td>6868331278b9f6fa6049f977</td>\n",
       "      <td>{'userId': 9, 'username': 'aarav'}</td>\n",
       "      <td>request recommendation</td>\n",
       "      <td>{'type': 'Content-Based Recommendation'}</td>\n",
       "      <td>2025-06-28 16:30:16.548</td>\n",
       "      <td>aarav</td>\n",
       "    </tr>\n",
       "    <tr>\n",
       "      <th>15</th>\n",
       "      <td>6868331278b9f6fa6049f979</td>\n",
       "      <td>{'userId': 10, 'username': 'manish'}</td>\n",
       "      <td>request recommendation</td>\n",
       "      <td>{'type': 'Content-Based Recommendation'}</td>\n",
       "      <td>2025-07-02 00:17:38.866</td>\n",
       "      <td>manish</td>\n",
       "    </tr>\n",
       "    <tr>\n",
       "      <th>23</th>\n",
       "      <td>6868331278b9f6fa6049f95e</td>\n",
       "      <td>{'userId': 8, 'username': 'vikram'}</td>\n",
       "      <td>request recommendation</td>\n",
       "      <td>{'type': 'Content-Based Recommendation'}</td>\n",
       "      <td>2025-06-27 22:24:12.267</td>\n",
       "      <td>vikram</td>\n",
       "    </tr>\n",
       "    <tr>\n",
       "      <th>24</th>\n",
       "      <td>6868331278b9f6fa6049f978</td>\n",
       "      <td>{'userId': 9, 'username': 'aarav'}</td>\n",
       "      <td>request recommendation</td>\n",
       "      <td>{'type': 'Content-Based Recommendation'}</td>\n",
       "      <td>2025-07-04 08:00:41.731</td>\n",
       "      <td>aarav</td>\n",
       "    </tr>\n",
       "    <tr>\n",
       "      <th>...</th>\n",
       "      <td>...</td>\n",
       "      <td>...</td>\n",
       "      <td>...</td>\n",
       "      <td>...</td>\n",
       "      <td>...</td>\n",
       "      <td>...</td>\n",
       "    </tr>\n",
       "    <tr>\n",
       "      <th>378</th>\n",
       "      <td>686833e47625b794f0ac97d3</td>\n",
       "      <td>{'userId': 2, 'username': 'arjun'}</td>\n",
       "      <td>request recommendation</td>\n",
       "      <td>{'type': 'Content-Based Recommendation'}</td>\n",
       "      <td>2025-06-28 18:53:25.671</td>\n",
       "      <td>arjun</td>\n",
       "    </tr>\n",
       "    <tr>\n",
       "      <th>382</th>\n",
       "      <td>686833e47625b794f0ac97ea</td>\n",
       "      <td>{'userId': 6, 'username': 'karan'}</td>\n",
       "      <td>request recommendation</td>\n",
       "      <td>{'type': 'Collaborative Recommendation'}</td>\n",
       "      <td>2025-06-29 18:04:46.587</td>\n",
       "      <td>karan</td>\n",
       "    </tr>\n",
       "    <tr>\n",
       "      <th>391</th>\n",
       "      <td>6868e115466cd2bd42d877d4</td>\n",
       "      <td>{'userId': 1, 'username': 'mohit'}</td>\n",
       "      <td>request recommendation</td>\n",
       "      <td>{'type': 'Collaborative Recommendation'}</td>\n",
       "      <td>2025-07-05 13:53:49.960</td>\n",
       "      <td>mohit</td>\n",
       "    </tr>\n",
       "    <tr>\n",
       "      <th>392</th>\n",
       "      <td>686833e47625b794f0ac97f4</td>\n",
       "      <td>{'userId': 1, 'username': 'mohit'}</td>\n",
       "      <td>request recommendation</td>\n",
       "      <td>{'type': 'Collaborative Recommendation'}</td>\n",
       "      <td>2025-07-03 00:02:38.796</td>\n",
       "      <td>mohit</td>\n",
       "    </tr>\n",
       "    <tr>\n",
       "      <th>396</th>\n",
       "      <td>686833e47625b794f0ac97f2</td>\n",
       "      <td>{'userId': 3, 'username': 'rohan'}</td>\n",
       "      <td>request recommendation</td>\n",
       "      <td>{'type': 'Collaborative Recommendation'}</td>\n",
       "      <td>2025-06-30 08:48:09.504</td>\n",
       "      <td>rohan</td>\n",
       "    </tr>\n",
       "  </tbody>\n",
       "</table>\n",
       "<p>102 rows × 6 columns</p>\n",
       "</div>"
      ],
      "text/plain": [
       "                          _id                                  user  \\\n",
       "9    6868331278b9f6fa6049f972    {'userId': 7, 'username': 'rahul'}   \n",
       "14   6868331278b9f6fa6049f977    {'userId': 9, 'username': 'aarav'}   \n",
       "15   6868331278b9f6fa6049f979  {'userId': 10, 'username': 'manish'}   \n",
       "23   6868331278b9f6fa6049f95e   {'userId': 8, 'username': 'vikram'}   \n",
       "24   6868331278b9f6fa6049f978    {'userId': 9, 'username': 'aarav'}   \n",
       "..                        ...                                   ...   \n",
       "378  686833e47625b794f0ac97d3    {'userId': 2, 'username': 'arjun'}   \n",
       "382  686833e47625b794f0ac97ea    {'userId': 6, 'username': 'karan'}   \n",
       "391  6868e115466cd2bd42d877d4    {'userId': 1, 'username': 'mohit'}   \n",
       "392  686833e47625b794f0ac97f4    {'userId': 1, 'username': 'mohit'}   \n",
       "396  686833e47625b794f0ac97f2    {'userId': 3, 'username': 'rohan'}   \n",
       "\n",
       "                     action                                   details  \\\n",
       "9    request recommendation  {'type': 'Content-Based Recommendation'}   \n",
       "14   request recommendation  {'type': 'Content-Based Recommendation'}   \n",
       "15   request recommendation  {'type': 'Content-Based Recommendation'}   \n",
       "23   request recommendation  {'type': 'Content-Based Recommendation'}   \n",
       "24   request recommendation  {'type': 'Content-Based Recommendation'}   \n",
       "..                      ...                                       ...   \n",
       "378  request recommendation  {'type': 'Content-Based Recommendation'}   \n",
       "382  request recommendation  {'type': 'Collaborative Recommendation'}   \n",
       "391  request recommendation  {'type': 'Collaborative Recommendation'}   \n",
       "392  request recommendation  {'type': 'Collaborative Recommendation'}   \n",
       "396  request recommendation  {'type': 'Collaborative Recommendation'}   \n",
       "\n",
       "                  timestamp username  \n",
       "9   2025-06-30 10:44:43.443    rahul  \n",
       "14  2025-06-28 16:30:16.548    aarav  \n",
       "15  2025-07-02 00:17:38.866   manish  \n",
       "23  2025-06-27 22:24:12.267   vikram  \n",
       "24  2025-07-04 08:00:41.731    aarav  \n",
       "..                      ...      ...  \n",
       "378 2025-06-28 18:53:25.671    arjun  \n",
       "382 2025-06-29 18:04:46.587    karan  \n",
       "391 2025-07-05 13:53:49.960    mohit  \n",
       "392 2025-07-03 00:02:38.796    mohit  \n",
       "396 2025-06-30 08:48:09.504    rohan  \n",
       "\n",
       "[102 rows x 6 columns]"
      ]
     },
     "execution_count": 9,
     "metadata": {},
     "output_type": "execute_result"
    }
   ],
   "source": [
    "reqs"
   ]
  },
  {
   "cell_type": "markdown",
   "id": "0aea0db8-553c-402f-9137-2b9c7a30f3ac",
   "metadata": {},
   "source": [
    "# Request‐Count (your “most recommendation click” analogue)"
   ]
  },
  {
   "cell_type": "code",
   "execution_count": 10,
   "id": "9aa33849-7938-4bf0-97d2-1df0d81228bc",
   "metadata": {},
   "outputs": [],
   "source": [
    "# labeling each request as A and B\n",
    "def label_varient(details):\n",
    "    if details.get('type') == \"Collaborative Recommendation\":\n",
    "        return 'A'   # group A = collaborative\n",
    "    else:\n",
    "        return 'B'   # group B = content-based"
   ]
  },
  {
   "cell_type": "code",
   "execution_count": null,
   "id": "de0c5ee8-8a1f-4e9b-8168-95f9872f8919",
   "metadata": {},
   "outputs": [],
   "source": []
  },
  {
   "cell_type": "code",
   "execution_count": 11,
   "id": "2a31595d-ebd2-4d8f-ba7c-f580715cc4de",
   "metadata": {},
   "outputs": [
    {
     "name": "stderr",
     "output_type": "stream",
     "text": [
      "C:\\Users\\write\\AppData\\Local\\Temp\\ipykernel_6116\\3717335074.py:1: SettingWithCopyWarning: \n",
      "A value is trying to be set on a copy of a slice from a DataFrame.\n",
      "Try using .loc[row_indexer,col_indexer] = value instead\n",
      "\n",
      "See the caveats in the documentation: https://pandas.pydata.org/pandas-docs/stable/user_guide/indexing.html#returning-a-view-versus-a-copy\n",
      "  reqs['varient'] = reqs['details'].apply(label_varient)\n"
     ]
    }
   ],
   "source": [
    "reqs['varient'] = reqs['details'].apply(label_varient)"
   ]
  },
  {
   "cell_type": "code",
   "execution_count": 12,
   "id": "0edce207-6397-42bc-82d4-6f2aa51c4e60",
   "metadata": {},
   "outputs": [
    {
     "data": {
      "text/html": [
       "<div>\n",
       "<style scoped>\n",
       "    .dataframe tbody tr th:only-of-type {\n",
       "        vertical-align: middle;\n",
       "    }\n",
       "\n",
       "    .dataframe tbody tr th {\n",
       "        vertical-align: top;\n",
       "    }\n",
       "\n",
       "    .dataframe thead th {\n",
       "        text-align: right;\n",
       "    }\n",
       "</style>\n",
       "<table border=\"1\" class=\"dataframe\">\n",
       "  <thead>\n",
       "    <tr style=\"text-align: right;\">\n",
       "      <th></th>\n",
       "      <th>_id</th>\n",
       "      <th>user</th>\n",
       "      <th>action</th>\n",
       "      <th>details</th>\n",
       "      <th>timestamp</th>\n",
       "      <th>username</th>\n",
       "      <th>varient</th>\n",
       "    </tr>\n",
       "  </thead>\n",
       "  <tbody>\n",
       "    <tr>\n",
       "      <th>9</th>\n",
       "      <td>6868331278b9f6fa6049f972</td>\n",
       "      <td>{'userId': 7, 'username': 'rahul'}</td>\n",
       "      <td>request recommendation</td>\n",
       "      <td>{'type': 'Content-Based Recommendation'}</td>\n",
       "      <td>2025-06-30 10:44:43.443</td>\n",
       "      <td>rahul</td>\n",
       "      <td>B</td>\n",
       "    </tr>\n",
       "    <tr>\n",
       "      <th>14</th>\n",
       "      <td>6868331278b9f6fa6049f977</td>\n",
       "      <td>{'userId': 9, 'username': 'aarav'}</td>\n",
       "      <td>request recommendation</td>\n",
       "      <td>{'type': 'Content-Based Recommendation'}</td>\n",
       "      <td>2025-06-28 16:30:16.548</td>\n",
       "      <td>aarav</td>\n",
       "      <td>B</td>\n",
       "    </tr>\n",
       "    <tr>\n",
       "      <th>15</th>\n",
       "      <td>6868331278b9f6fa6049f979</td>\n",
       "      <td>{'userId': 10, 'username': 'manish'}</td>\n",
       "      <td>request recommendation</td>\n",
       "      <td>{'type': 'Content-Based Recommendation'}</td>\n",
       "      <td>2025-07-02 00:17:38.866</td>\n",
       "      <td>manish</td>\n",
       "      <td>B</td>\n",
       "    </tr>\n",
       "    <tr>\n",
       "      <th>23</th>\n",
       "      <td>6868331278b9f6fa6049f95e</td>\n",
       "      <td>{'userId': 8, 'username': 'vikram'}</td>\n",
       "      <td>request recommendation</td>\n",
       "      <td>{'type': 'Content-Based Recommendation'}</td>\n",
       "      <td>2025-06-27 22:24:12.267</td>\n",
       "      <td>vikram</td>\n",
       "      <td>B</td>\n",
       "    </tr>\n",
       "    <tr>\n",
       "      <th>24</th>\n",
       "      <td>6868331278b9f6fa6049f978</td>\n",
       "      <td>{'userId': 9, 'username': 'aarav'}</td>\n",
       "      <td>request recommendation</td>\n",
       "      <td>{'type': 'Content-Based Recommendation'}</td>\n",
       "      <td>2025-07-04 08:00:41.731</td>\n",
       "      <td>aarav</td>\n",
       "      <td>B</td>\n",
       "    </tr>\n",
       "    <tr>\n",
       "      <th>...</th>\n",
       "      <td>...</td>\n",
       "      <td>...</td>\n",
       "      <td>...</td>\n",
       "      <td>...</td>\n",
       "      <td>...</td>\n",
       "      <td>...</td>\n",
       "      <td>...</td>\n",
       "    </tr>\n",
       "    <tr>\n",
       "      <th>378</th>\n",
       "      <td>686833e47625b794f0ac97d3</td>\n",
       "      <td>{'userId': 2, 'username': 'arjun'}</td>\n",
       "      <td>request recommendation</td>\n",
       "      <td>{'type': 'Content-Based Recommendation'}</td>\n",
       "      <td>2025-06-28 18:53:25.671</td>\n",
       "      <td>arjun</td>\n",
       "      <td>B</td>\n",
       "    </tr>\n",
       "    <tr>\n",
       "      <th>382</th>\n",
       "      <td>686833e47625b794f0ac97ea</td>\n",
       "      <td>{'userId': 6, 'username': 'karan'}</td>\n",
       "      <td>request recommendation</td>\n",
       "      <td>{'type': 'Collaborative Recommendation'}</td>\n",
       "      <td>2025-06-29 18:04:46.587</td>\n",
       "      <td>karan</td>\n",
       "      <td>A</td>\n",
       "    </tr>\n",
       "    <tr>\n",
       "      <th>391</th>\n",
       "      <td>6868e115466cd2bd42d877d4</td>\n",
       "      <td>{'userId': 1, 'username': 'mohit'}</td>\n",
       "      <td>request recommendation</td>\n",
       "      <td>{'type': 'Collaborative Recommendation'}</td>\n",
       "      <td>2025-07-05 13:53:49.960</td>\n",
       "      <td>mohit</td>\n",
       "      <td>A</td>\n",
       "    </tr>\n",
       "    <tr>\n",
       "      <th>392</th>\n",
       "      <td>686833e47625b794f0ac97f4</td>\n",
       "      <td>{'userId': 1, 'username': 'mohit'}</td>\n",
       "      <td>request recommendation</td>\n",
       "      <td>{'type': 'Collaborative Recommendation'}</td>\n",
       "      <td>2025-07-03 00:02:38.796</td>\n",
       "      <td>mohit</td>\n",
       "      <td>A</td>\n",
       "    </tr>\n",
       "    <tr>\n",
       "      <th>396</th>\n",
       "      <td>686833e47625b794f0ac97f2</td>\n",
       "      <td>{'userId': 3, 'username': 'rohan'}</td>\n",
       "      <td>request recommendation</td>\n",
       "      <td>{'type': 'Collaborative Recommendation'}</td>\n",
       "      <td>2025-06-30 08:48:09.504</td>\n",
       "      <td>rohan</td>\n",
       "      <td>A</td>\n",
       "    </tr>\n",
       "  </tbody>\n",
       "</table>\n",
       "<p>102 rows × 7 columns</p>\n",
       "</div>"
      ],
      "text/plain": [
       "                          _id                                  user  \\\n",
       "9    6868331278b9f6fa6049f972    {'userId': 7, 'username': 'rahul'}   \n",
       "14   6868331278b9f6fa6049f977    {'userId': 9, 'username': 'aarav'}   \n",
       "15   6868331278b9f6fa6049f979  {'userId': 10, 'username': 'manish'}   \n",
       "23   6868331278b9f6fa6049f95e   {'userId': 8, 'username': 'vikram'}   \n",
       "24   6868331278b9f6fa6049f978    {'userId': 9, 'username': 'aarav'}   \n",
       "..                        ...                                   ...   \n",
       "378  686833e47625b794f0ac97d3    {'userId': 2, 'username': 'arjun'}   \n",
       "382  686833e47625b794f0ac97ea    {'userId': 6, 'username': 'karan'}   \n",
       "391  6868e115466cd2bd42d877d4    {'userId': 1, 'username': 'mohit'}   \n",
       "392  686833e47625b794f0ac97f4    {'userId': 1, 'username': 'mohit'}   \n",
       "396  686833e47625b794f0ac97f2    {'userId': 3, 'username': 'rohan'}   \n",
       "\n",
       "                     action                                   details  \\\n",
       "9    request recommendation  {'type': 'Content-Based Recommendation'}   \n",
       "14   request recommendation  {'type': 'Content-Based Recommendation'}   \n",
       "15   request recommendation  {'type': 'Content-Based Recommendation'}   \n",
       "23   request recommendation  {'type': 'Content-Based Recommendation'}   \n",
       "24   request recommendation  {'type': 'Content-Based Recommendation'}   \n",
       "..                      ...                                       ...   \n",
       "378  request recommendation  {'type': 'Content-Based Recommendation'}   \n",
       "382  request recommendation  {'type': 'Collaborative Recommendation'}   \n",
       "391  request recommendation  {'type': 'Collaborative Recommendation'}   \n",
       "392  request recommendation  {'type': 'Collaborative Recommendation'}   \n",
       "396  request recommendation  {'type': 'Collaborative Recommendation'}   \n",
       "\n",
       "                  timestamp username varient  \n",
       "9   2025-06-30 10:44:43.443    rahul       B  \n",
       "14  2025-06-28 16:30:16.548    aarav       B  \n",
       "15  2025-07-02 00:17:38.866   manish       B  \n",
       "23  2025-06-27 22:24:12.267   vikram       B  \n",
       "24  2025-07-04 08:00:41.731    aarav       B  \n",
       "..                      ...      ...     ...  \n",
       "378 2025-06-28 18:53:25.671    arjun       B  \n",
       "382 2025-06-29 18:04:46.587    karan       A  \n",
       "391 2025-07-05 13:53:49.960    mohit       A  \n",
       "392 2025-07-03 00:02:38.796    mohit       A  \n",
       "396 2025-06-30 08:48:09.504    rohan       A  \n",
       "\n",
       "[102 rows x 7 columns]"
      ]
     },
     "execution_count": 12,
     "metadata": {},
     "output_type": "execute_result"
    }
   ],
   "source": [
    "reqs"
   ]
  },
  {
   "cell_type": "code",
   "execution_count": 13,
   "id": "62976df1-0473-401a-808e-f937b2fc2664",
   "metadata": {},
   "outputs": [],
   "source": [
    "reqs_count = reqs.groupby('varient').size()"
   ]
  },
  {
   "cell_type": "code",
   "execution_count": 14,
   "id": "2497d864-e54b-4198-8b57-b51d0d27b360",
   "metadata": {},
   "outputs": [
    {
     "data": {
      "text/plain": [
       "varient\n",
       "A    45\n",
       "B    57\n",
       "dtype: int64"
      ]
     },
     "execution_count": 14,
     "metadata": {},
     "output_type": "execute_result"
    }
   ],
   "source": [
    "reqs_count"
   ]
  },
  {
   "cell_type": "code",
   "execution_count": 15,
   "id": "2c2c0cf2-b222-4936-aa22-02d0ea0483c1",
   "metadata": {},
   "outputs": [
    {
     "name": "stdout",
     "output_type": "stream",
     "text": [
      "Total Requests: \n",
      "varient\n",
      "A    45\n",
      "B    57\n",
      "dtype: int64\n"
     ]
    }
   ],
   "source": [
    "print(f\"Total Requests: \\n{reqs_count}\")"
   ]
  },
  {
   "cell_type": "markdown",
   "id": "87e9518c-0755-49fb-8b06-251eeb58446f",
   "metadata": {},
   "source": [
    "###### Ploting"
   ]
  },
  {
   "cell_type": "code",
   "execution_count": 16,
   "id": "71da9e45-46d6-437c-825a-ac30f14a44aa",
   "metadata": {},
   "outputs": [
    {
     "name": "stderr",
     "output_type": "stream",
     "text": [
      "C:\\Users\\write\\AppData\\Local\\Temp\\ipykernel_6116\\2268965689.py:1: FutureWarning: Series.__getitem__ treating keys as positions is deprecated. In a future version, integer keys will always be treated as labels (consistent with DataFrame behavior). To access a value by position, use `ser.iloc[pos]`\n",
      "  total_clicks = [reqs_count[0], reqs_count[1]]\n"
     ]
    }
   ],
   "source": [
    "total_clicks = [reqs_count[0], reqs_count[1]]\n",
    "algo = [\"Collaborative Recommendation\", \"Content Based\"]"
   ]
  },
  {
   "cell_type": "code",
   "execution_count": 17,
   "id": "6c259f83-fa42-4ca7-8e34-2a196542ea59",
   "metadata": {},
   "outputs": [
    {
     "data": {
      "text/plain": [
       "[45, 57]"
      ]
     },
     "execution_count": 17,
     "metadata": {},
     "output_type": "execute_result"
    }
   ],
   "source": [
    "total_clicks"
   ]
  },
  {
   "cell_type": "code",
   "execution_count": 18,
   "id": "056de4a9-11ac-441b-b0ef-813e70f0d29c",
   "metadata": {},
   "outputs": [
    {
     "data": {
      "text/plain": [
       "['Collaborative Recommendation', 'Content Based']"
      ]
     },
     "execution_count": 18,
     "metadata": {},
     "output_type": "execute_result"
    }
   ],
   "source": [
    "algo"
   ]
  },
  {
   "cell_type": "code",
   "execution_count": 19,
   "id": "054265ad-994d-4244-8af1-63fbd79c0056",
   "metadata": {},
   "outputs": [
    {
     "data": {
      "image/png": "[encoded data removed]",
      "text/plain": [
       "<Figure size 640x480 with 1 Axes>"
      ]
     },
     "metadata": {},
     "output_type": "display_data"
    }
   ],
   "source": [
    "plt.bar(algo, total_clicks, color=['r', 'b'], width=0.4)\n",
    "plt.xlabel(\"Algorithm\")\n",
    "plt.ylabel(\"Total Clicks by User\")\n",
    "\n",
    "plt.grid()\n",
    "plt.show()"
   ]
  },
  {
   "cell_type": "markdown",
   "id": "f279ab6f-b287-4ccb-96e2-0b5192ed92df",
   "metadata": {},
   "source": [
    "# Success Rates (Rating to Movies)\n"
   ]
  },
  {
   "cell_type": "markdown",
   "id": "6204cfbe-e7a1-4067-9bda-1fcce5d650c9",
   "metadata": {},
   "source": [
    "#### We Check - Did the user ever rate any movie after each request?"
   ]
  },
  {
   "cell_type": "code",
   "execution_count": 20,
   "id": "dcd63a0d-b21e-4696-aa9e-3ab4a3b06741",
   "metadata": {},
   "outputs": [],
   "source": [
    "def did_rate(row):\n",
    "    user = row['username']\n",
    "    t0 = row['timestamp']\n",
    "\n",
    "    mask = (\n",
    "        (logs['username'] == user) &\n",
    "        (logs['action'] == 'save_ratings') & \n",
    "        (logs['timestamp'] > t0)\n",
    "    )\n",
    "\n",
    "    return int(mask.any())"
   ]
  },
  {
   "cell_type": "code",
   "execution_count": null,
   "id": "3cbf78df-5a1e-455d-aae0-fc1c191f13b7",
   "metadata": {},
   "outputs": [],
   "source": []
  },
  {
   "cell_type": "code",
   "execution_count": 21,
   "id": "4636d1e3-0f3a-4e05-9b9b-aca3dc77e15a",
   "metadata": {
    "scrolled": true
   },
   "outputs": [
    {
     "data": {
      "text/html": [
       "<div>\n",
       "<style scoped>\n",
       "    .dataframe tbody tr th:only-of-type {\n",
       "        vertical-align: middle;\n",
       "    }\n",
       "\n",
       "    .dataframe tbody tr th {\n",
       "        vertical-align: top;\n",
       "    }\n",
       "\n",
       "    .dataframe thead th {\n",
       "        text-align: right;\n",
       "    }\n",
       "</style>\n",
       "<table border=\"1\" class=\"dataframe\">\n",
       "  <thead>\n",
       "    <tr style=\"text-align: right;\">\n",
       "      <th></th>\n",
       "      <th>_id</th>\n",
       "      <th>user</th>\n",
       "      <th>action</th>\n",
       "      <th>details</th>\n",
       "      <th>timestamp</th>\n",
       "      <th>username</th>\n",
       "      <th>varient</th>\n",
       "    </tr>\n",
       "  </thead>\n",
       "  <tbody>\n",
       "    <tr>\n",
       "      <th>9</th>\n",
       "      <td>6868331278b9f6fa6049f972</td>\n",
       "      <td>{'userId': 7, 'username': 'rahul'}</td>\n",
       "      <td>request recommendation</td>\n",
       "      <td>{'type': 'Content-Based Recommendation'}</td>\n",
       "      <td>2025-06-30 10:44:43.443</td>\n",
       "      <td>rahul</td>\n",
       "      <td>B</td>\n",
       "    </tr>\n",
       "    <tr>\n",
       "      <th>14</th>\n",
       "      <td>6868331278b9f6fa6049f977</td>\n",
       "      <td>{'userId': 9, 'username': 'aarav'}</td>\n",
       "      <td>request recommendation</td>\n",
       "      <td>{'type': 'Content-Based Recommendation'}</td>\n",
       "      <td>2025-06-28 16:30:16.548</td>\n",
       "      <td>aarav</td>\n",
       "      <td>B</td>\n",
       "    </tr>\n",
       "    <tr>\n",
       "      <th>15</th>\n",
       "      <td>6868331278b9f6fa6049f979</td>\n",
       "      <td>{'userId': 10, 'username': 'manish'}</td>\n",
       "      <td>request recommendation</td>\n",
       "      <td>{'type': 'Content-Based Recommendation'}</td>\n",
       "      <td>2025-07-02 00:17:38.866</td>\n",
       "      <td>manish</td>\n",
       "      <td>B</td>\n",
       "    </tr>\n",
       "    <tr>\n",
       "      <th>23</th>\n",
       "      <td>6868331278b9f6fa6049f95e</td>\n",
       "      <td>{'userId': 8, 'username': 'vikram'}</td>\n",
       "      <td>request recommendation</td>\n",
       "      <td>{'type': 'Content-Based Recommendation'}</td>\n",
       "      <td>2025-06-27 22:24:12.267</td>\n",
       "      <td>vikram</td>\n",
       "      <td>B</td>\n",
       "    </tr>\n",
       "    <tr>\n",
       "      <th>24</th>\n",
       "      <td>6868331278b9f6fa6049f978</td>\n",
       "      <td>{'userId': 9, 'username': 'aarav'}</td>\n",
       "      <td>request recommendation</td>\n",
       "      <td>{'type': 'Content-Based Recommendation'}</td>\n",
       "      <td>2025-07-04 08:00:41.731</td>\n",
       "      <td>aarav</td>\n",
       "      <td>B</td>\n",
       "    </tr>\n",
       "    <tr>\n",
       "      <th>...</th>\n",
       "      <td>...</td>\n",
       "      <td>...</td>\n",
       "      <td>...</td>\n",
       "      <td>...</td>\n",
       "      <td>...</td>\n",
       "      <td>...</td>\n",
       "      <td>...</td>\n",
       "    </tr>\n",
       "    <tr>\n",
       "      <th>378</th>\n",
       "      <td>686833e47625b794f0ac97d3</td>\n",
       "      <td>{'userId': 2, 'username': 'arjun'}</td>\n",
       "      <td>request recommendation</td>\n",
       "      <td>{'type': 'Content-Based Recommendation'}</td>\n",
       "      <td>2025-06-28 18:53:25.671</td>\n",
       "      <td>arjun</td>\n",
       "      <td>B</td>\n",
       "    </tr>\n",
       "    <tr>\n",
       "      <th>382</th>\n",
       "      <td>686833e47625b794f0ac97ea</td>\n",
       "      <td>{'userId': 6, 'username': 'karan'}</td>\n",
       "      <td>request recommendation</td>\n",
       "      <td>{'type': 'Collaborative Recommendation'}</td>\n",
       "      <td>2025-06-29 18:04:46.587</td>\n",
       "      <td>karan</td>\n",
       "      <td>A</td>\n",
       "    </tr>\n",
       "    <tr>\n",
       "      <th>391</th>\n",
       "      <td>6868e115466cd2bd42d877d4</td>\n",
       "      <td>{'userId': 1, 'username': 'mohit'}</td>\n",
       "      <td>request recommendation</td>\n",
       "      <td>{'type': 'Collaborative Recommendation'}</td>\n",
       "      <td>2025-07-05 13:53:49.960</td>\n",
       "      <td>mohit</td>\n",
       "      <td>A</td>\n",
       "    </tr>\n",
       "    <tr>\n",
       "      <th>392</th>\n",
       "      <td>686833e47625b794f0ac97f4</td>\n",
       "      <td>{'userId': 1, 'username': 'mohit'}</td>\n",
       "      <td>request recommendation</td>\n",
       "      <td>{'type': 'Collaborative Recommendation'}</td>\n",
       "      <td>2025-07-03 00:02:38.796</td>\n",
       "      <td>mohit</td>\n",
       "      <td>A</td>\n",
       "    </tr>\n",
       "    <tr>\n",
       "      <th>396</th>\n",
       "      <td>686833e47625b794f0ac97f2</td>\n",
       "      <td>{'userId': 3, 'username': 'rohan'}</td>\n",
       "      <td>request recommendation</td>\n",
       "      <td>{'type': 'Collaborative Recommendation'}</td>\n",
       "      <td>2025-06-30 08:48:09.504</td>\n",
       "      <td>rohan</td>\n",
       "      <td>A</td>\n",
       "    </tr>\n",
       "  </tbody>\n",
       "</table>\n",
       "<p>102 rows × 7 columns</p>\n",
       "</div>"
      ],
      "text/plain": [
       "                          _id                                  user  \\\n",
       "9    6868331278b9f6fa6049f972    {'userId': 7, 'username': 'rahul'}   \n",
       "14   6868331278b9f6fa6049f977    {'userId': 9, 'username': 'aarav'}   \n",
       "15   6868331278b9f6fa6049f979  {'userId': 10, 'username': 'manish'}   \n",
       "23   6868331278b9f6fa6049f95e   {'userId': 8, 'username': 'vikram'}   \n",
       "24   6868331278b9f6fa6049f978    {'userId': 9, 'username': 'aarav'}   \n",
       "..                        ...                                   ...   \n",
       "378  686833e47625b794f0ac97d3    {'userId': 2, 'username': 'arjun'}   \n",
       "382  686833e47625b794f0ac97ea    {'userId': 6, 'username': 'karan'}   \n",
       "391  6868e115466cd2bd42d877d4    {'userId': 1, 'username': 'mohit'}   \n",
       "392  686833e47625b794f0ac97f4    {'userId': 1, 'username': 'mohit'}   \n",
       "396  686833e47625b794f0ac97f2    {'userId': 3, 'username': 'rohan'}   \n",
       "\n",
       "                     action                                   details  \\\n",
       "9    request recommendation  {'type': 'Content-Based Recommendation'}   \n",
       "14   request recommendation  {'type': 'Content-Based Recommendation'}   \n",
       "15   request recommendation  {'type': 'Content-Based Recommendation'}   \n",
       "23   request recommendation  {'type': 'Content-Based Recommendation'}   \n",
       "24   request recommendation  {'type': 'Content-Based Recommendation'}   \n",
       "..                      ...                                       ...   \n",
       "378  request recommendation  {'type': 'Content-Based Recommendation'}   \n",
       "382  request recommendation  {'type': 'Collaborative Recommendation'}   \n",
       "391  request recommendation  {'type': 'Collaborative Recommendation'}   \n",
       "392  request recommendation  {'type': 'Collaborative Recommendation'}   \n",
       "396  request recommendation  {'type': 'Collaborative Recommendation'}   \n",
       "\n",
       "                  timestamp username varient  \n",
       "9   2025-06-30 10:44:43.443    rahul       B  \n",
       "14  2025-06-28 16:30:16.548    aarav       B  \n",
       "15  2025-07-02 00:17:38.866   manish       B  \n",
       "23  2025-06-27 22:24:12.267   vikram       B  \n",
       "24  2025-07-04 08:00:41.731    aarav       B  \n",
       "..                      ...      ...     ...  \n",
       "378 2025-06-28 18:53:25.671    arjun       B  \n",
       "382 2025-06-29 18:04:46.587    karan       A  \n",
       "391 2025-07-05 13:53:49.960    mohit       A  \n",
       "392 2025-07-03 00:02:38.796    mohit       A  \n",
       "396 2025-06-30 08:48:09.504    rohan       A  \n",
       "\n",
       "[102 rows x 7 columns]"
      ]
     },
     "execution_count": 21,
     "metadata": {},
     "output_type": "execute_result"
    }
   ],
   "source": [
    "reqs"
   ]
  },
  {
   "cell_type": "code",
   "execution_count": 22,
   "id": "aceaab94-3929-48e8-961b-1760d45973c2",
   "metadata": {},
   "outputs": [
    {
     "data": {
      "text/plain": [
       "array(['request recommendation'], dtype=object)"
      ]
     },
     "execution_count": 22,
     "metadata": {},
     "output_type": "execute_result"
    }
   ],
   "source": [
    "reqs['action'].unique()"
   ]
  },
  {
   "cell_type": "code",
   "execution_count": 23,
   "id": "8ba1afc5-d744-4b24-a62f-b6e8b6a81e60",
   "metadata": {
    "scrolled": true
   },
   "outputs": [
    {
     "name": "stderr",
     "output_type": "stream",
     "text": [
      "C:\\Users\\write\\AppData\\Local\\Temp\\ipykernel_6116\\2820939626.py:1: SettingWithCopyWarning: \n",
      "A value is trying to be set on a copy of a slice from a DataFrame.\n",
      "Try using .loc[row_indexer,col_indexer] = value instead\n",
      "\n",
      "See the caveats in the documentation: https://pandas.pydata.org/pandas-docs/stable/user_guide/indexing.html#returning-a-view-versus-a-copy\n",
      "  reqs[\"rated_flag\"] = logs.apply(did_rate, axis=1)\n"
     ]
    }
   ],
   "source": [
    "reqs[\"rated_flag\"] = logs.apply(did_rate, axis=1)"
   ]
  },
  {
   "cell_type": "code",
   "execution_count": 24,
   "id": "d0ac7581-eb48-42d8-a446-1d87724cb8ee",
   "metadata": {},
   "outputs": [
    {
     "data": {
      "text/html": [
       "<div>\n",
       "<style scoped>\n",
       "    .dataframe tbody tr th:only-of-type {\n",
       "        vertical-align: middle;\n",
       "    }\n",
       "\n",
       "    .dataframe tbody tr th {\n",
       "        vertical-align: top;\n",
       "    }\n",
       "\n",
       "    .dataframe thead th {\n",
       "        text-align: right;\n",
       "    }\n",
       "</style>\n",
       "<table border=\"1\" class=\"dataframe\">\n",
       "  <thead>\n",
       "    <tr style=\"text-align: right;\">\n",
       "      <th></th>\n",
       "      <th>_id</th>\n",
       "      <th>user</th>\n",
       "      <th>action</th>\n",
       "      <th>details</th>\n",
       "      <th>timestamp</th>\n",
       "      <th>username</th>\n",
       "      <th>varient</th>\n",
       "      <th>rated_flag</th>\n",
       "    </tr>\n",
       "  </thead>\n",
       "  <tbody>\n",
       "    <tr>\n",
       "      <th>9</th>\n",
       "      <td>6868331278b9f6fa6049f972</td>\n",
       "      <td>{'userId': 7, 'username': 'rahul'}</td>\n",
       "      <td>request recommendation</td>\n",
       "      <td>{'type': 'Content-Based Recommendation'}</td>\n",
       "      <td>2025-06-30 10:44:43.443</td>\n",
       "      <td>rahul</td>\n",
       "      <td>B</td>\n",
       "      <td>1</td>\n",
       "    </tr>\n",
       "    <tr>\n",
       "      <th>14</th>\n",
       "      <td>6868331278b9f6fa6049f977</td>\n",
       "      <td>{'userId': 9, 'username': 'aarav'}</td>\n",
       "      <td>request recommendation</td>\n",
       "      <td>{'type': 'Content-Based Recommendation'}</td>\n",
       "      <td>2025-06-28 16:30:16.548</td>\n",
       "      <td>aarav</td>\n",
       "      <td>B</td>\n",
       "      <td>1</td>\n",
       "    </tr>\n",
       "    <tr>\n",
       "      <th>15</th>\n",
       "      <td>6868331278b9f6fa6049f979</td>\n",
       "      <td>{'userId': 10, 'username': 'manish'}</td>\n",
       "      <td>request recommendation</td>\n",
       "      <td>{'type': 'Content-Based Recommendation'}</td>\n",
       "      <td>2025-07-02 00:17:38.866</td>\n",
       "      <td>manish</td>\n",
       "      <td>B</td>\n",
       "      <td>1</td>\n",
       "    </tr>\n",
       "    <tr>\n",
       "      <th>23</th>\n",
       "      <td>6868331278b9f6fa6049f95e</td>\n",
       "      <td>{'userId': 8, 'username': 'vikram'}</td>\n",
       "      <td>request recommendation</td>\n",
       "      <td>{'type': 'Content-Based Recommendation'}</td>\n",
       "      <td>2025-06-27 22:24:12.267</td>\n",
       "      <td>vikram</td>\n",
       "      <td>B</td>\n",
       "      <td>1</td>\n",
       "    </tr>\n",
       "    <tr>\n",
       "      <th>24</th>\n",
       "      <td>6868331278b9f6fa6049f978</td>\n",
       "      <td>{'userId': 9, 'username': 'aarav'}</td>\n",
       "      <td>request recommendation</td>\n",
       "      <td>{'type': 'Content-Based Recommendation'}</td>\n",
       "      <td>2025-07-04 08:00:41.731</td>\n",
       "      <td>aarav</td>\n",
       "      <td>B</td>\n",
       "      <td>0</td>\n",
       "    </tr>\n",
       "    <tr>\n",
       "      <th>...</th>\n",
       "      <td>...</td>\n",
       "      <td>...</td>\n",
       "      <td>...</td>\n",
       "      <td>...</td>\n",
       "      <td>...</td>\n",
       "      <td>...</td>\n",
       "      <td>...</td>\n",
       "      <td>...</td>\n",
       "    </tr>\n",
       "    <tr>\n",
       "      <th>378</th>\n",
       "      <td>686833e47625b794f0ac97d3</td>\n",
       "      <td>{'userId': 2, 'username': 'arjun'}</td>\n",
       "      <td>request recommendation</td>\n",
       "      <td>{'type': 'Content-Based Recommendation'}</td>\n",
       "      <td>2025-06-28 18:53:25.671</td>\n",
       "      <td>arjun</td>\n",
       "      <td>B</td>\n",
       "      <td>1</td>\n",
       "    </tr>\n",
       "    <tr>\n",
       "      <th>382</th>\n",
       "      <td>686833e47625b794f0ac97ea</td>\n",
       "      <td>{'userId': 6, 'username': 'karan'}</td>\n",
       "      <td>request recommendation</td>\n",
       "      <td>{'type': 'Collaborative Recommendation'}</td>\n",
       "      <td>2025-06-29 18:04:46.587</td>\n",
       "      <td>karan</td>\n",
       "      <td>A</td>\n",
       "      <td>1</td>\n",
       "    </tr>\n",
       "    <tr>\n",
       "      <th>391</th>\n",
       "      <td>6868e115466cd2bd42d877d4</td>\n",
       "      <td>{'userId': 1, 'username': 'mohit'}</td>\n",
       "      <td>request recommendation</td>\n",
       "      <td>{'type': 'Collaborative Recommendation'}</td>\n",
       "      <td>2025-07-05 13:53:49.960</td>\n",
       "      <td>mohit</td>\n",
       "      <td>A</td>\n",
       "      <td>1</td>\n",
       "    </tr>\n",
       "    <tr>\n",
       "      <th>392</th>\n",
       "      <td>686833e47625b794f0ac97f4</td>\n",
       "      <td>{'userId': 1, 'username': 'mohit'}</td>\n",
       "      <td>request recommendation</td>\n",
       "      <td>{'type': 'Collaborative Recommendation'}</td>\n",
       "      <td>2025-07-03 00:02:38.796</td>\n",
       "      <td>mohit</td>\n",
       "      <td>A</td>\n",
       "      <td>1</td>\n",
       "    </tr>\n",
       "    <tr>\n",
       "      <th>396</th>\n",
       "      <td>686833e47625b794f0ac97f2</td>\n",
       "      <td>{'userId': 3, 'username': 'rohan'}</td>\n",
       "      <td>request recommendation</td>\n",
       "      <td>{'type': 'Collaborative Recommendation'}</td>\n",
       "      <td>2025-06-30 08:48:09.504</td>\n",
       "      <td>rohan</td>\n",
       "      <td>A</td>\n",
       "      <td>1</td>\n",
       "    </tr>\n",
       "  </tbody>\n",
       "</table>\n",
       "<p>102 rows × 8 columns</p>\n",
       "</div>"
      ],
      "text/plain": [
       "                          _id                                  user  \\\n",
       "9    6868331278b9f6fa6049f972    {'userId': 7, 'username': 'rahul'}   \n",
       "14   6868331278b9f6fa6049f977    {'userId': 9, 'username': 'aarav'}   \n",
       "15   6868331278b9f6fa6049f979  {'userId': 10, 'username': 'manish'}   \n",
       "23   6868331278b9f6fa6049f95e   {'userId': 8, 'username': 'vikram'}   \n",
       "24   6868331278b9f6fa6049f978    {'userId': 9, 'username': 'aarav'}   \n",
       "..                        ...                                   ...   \n",
       "378  686833e47625b794f0ac97d3    {'userId': 2, 'username': 'arjun'}   \n",
       "382  686833e47625b794f0ac97ea    {'userId': 6, 'username': 'karan'}   \n",
       "391  6868e115466cd2bd42d877d4    {'userId': 1, 'username': 'mohit'}   \n",
       "392  686833e47625b794f0ac97f4    {'userId': 1, 'username': 'mohit'}   \n",
       "396  686833e47625b794f0ac97f2    {'userId': 3, 'username': 'rohan'}   \n",
       "\n",
       "                     action                                   details  \\\n",
       "9    request recommendation  {'type': 'Content-Based Recommendation'}   \n",
       "14   request recommendation  {'type': 'Content-Based Recommendation'}   \n",
       "15   request recommendation  {'type': 'Content-Based Recommendation'}   \n",
       "23   request recommendation  {'type': 'Content-Based Recommendation'}   \n",
       "24   request recommendation  {'type': 'Content-Based Recommendation'}   \n",
       "..                      ...                                       ...   \n",
       "378  request recommendation  {'type': 'Content-Based Recommendation'}   \n",
       "382  request recommendation  {'type': 'Collaborative Recommendation'}   \n",
       "391  request recommendation  {'type': 'Collaborative Recommendation'}   \n",
       "392  request recommendation  {'type': 'Collaborative Recommendation'}   \n",
       "396  request recommendation  {'type': 'Collaborative Recommendation'}   \n",
       "\n",
       "                  timestamp username varient  rated_flag  \n",
       "9   2025-06-30 10:44:43.443    rahul       B           1  \n",
       "14  2025-06-28 16:30:16.548    aarav       B           1  \n",
       "15  2025-07-02 00:17:38.866   manish       B           1  \n",
       "23  2025-06-27 22:24:12.267   vikram       B           1  \n",
       "24  2025-07-04 08:00:41.731    aarav       B           0  \n",
       "..                      ...      ...     ...         ...  \n",
       "378 2025-06-28 18:53:25.671    arjun       B           1  \n",
       "382 2025-06-29 18:04:46.587    karan       A           1  \n",
       "391 2025-07-05 13:53:49.960    mohit       A           1  \n",
       "392 2025-07-03 00:02:38.796    mohit       A           1  \n",
       "396 2025-06-30 08:48:09.504    rohan       A           1  \n",
       "\n",
       "[102 rows x 8 columns]"
      ]
     },
     "execution_count": 24,
     "metadata": {},
     "output_type": "execute_result"
    }
   ],
   "source": [
    "reqs"
   ]
  },
  {
   "cell_type": "code",
   "execution_count": 25,
   "id": "d1c0a5a1-3779-4276-9e65-17554e993de4",
   "metadata": {},
   "outputs": [
    {
     "data": {
      "text/plain": [
       "varient\n",
       "A    45\n",
       "B    57\n",
       "Name: rated_flag, dtype: int64"
      ]
     },
     "execution_count": 25,
     "metadata": {},
     "output_type": "execute_result"
    }
   ],
   "source": [
    "reqs.groupby('varient')['rated_flag'].size()"
   ]
  },
  {
   "cell_type": "code",
   "execution_count": 26,
   "id": "b40b63fa-19bd-483d-94f1-0dfac7a16989",
   "metadata": {},
   "outputs": [],
   "source": [
    "rating_conv = reqs.groupby('varient')['rated_flag'].mean()"
   ]
  },
  {
   "cell_type": "code",
   "execution_count": 27,
   "id": "62827b02-c9ef-4258-809c-e4f3c7fbf84f",
   "metadata": {},
   "outputs": [
    {
     "name": "stdout",
     "output_type": "stream",
     "text": [
      "Rating Success-rate:\n",
      "varient\n",
      "A    0.755556\n",
      "B    0.877193\n",
      "Name: rated_flag, dtype: float64 \n",
      "\n"
     ]
    }
   ],
   "source": [
    "print(\"Rating Success-rate:\")\n",
    "print(rating_conv, \"\\n\")"
   ]
  },
  {
   "cell_type": "code",
   "execution_count": 28,
   "id": "a7ed11d6-43f5-40a6-98d5-11ca18b0e132",
   "metadata": {},
   "outputs": [],
   "source": [
    "from matplotlib import pyplot as plt"
   ]
  },
  {
   "cell_type": "code",
   "execution_count": 29,
   "id": "d988c706-25bf-4960-8185-92a788c5dd99",
   "metadata": {},
   "outputs": [],
   "source": [
    "algo = ['Collaborative Recommendation', 'Content Based']"
   ]
  },
  {
   "cell_type": "code",
   "execution_count": 30,
   "id": "5e214db0-6064-438e-b8f6-c098adc27d84",
   "metadata": {},
   "outputs": [
    {
     "name": "stderr",
     "output_type": "stream",
     "text": [
      "C:\\Users\\write\\AppData\\Local\\Temp\\ipykernel_6116\\2705771983.py:1: FutureWarning: Series.__getitem__ treating keys as positions is deprecated. In a future version, integer keys will always be treated as labels (consistent with DataFrame behavior). To access a value by position, use `ser.iloc[pos]`\n",
      "  success_rate = [rating_conv[0], rating_conv[1]]\n"
     ]
    }
   ],
   "source": [
    "success_rate = [rating_conv[0], rating_conv[1]]"
   ]
  },
  {
   "cell_type": "code",
   "execution_count": 31,
   "id": "8501e637-2263-477a-941c-edd27b59d969",
   "metadata": {},
   "outputs": [
    {
     "data": {
      "text/plain": [
       "[0.7555555555555555, 0.8771929824561403]"
      ]
     },
     "execution_count": 31,
     "metadata": {},
     "output_type": "execute_result"
    }
   ],
   "source": [
    "success_rate"
   ]
  },
  {
   "cell_type": "code",
   "execution_count": 32,
   "id": "0e34c040-7d57-4456-bc1f-3c84b0bcfe37",
   "metadata": {},
   "outputs": [
    {
     "data": {
      "image/png": "[encoded data removed]",
      "text/plain": [
       "<Figure size 640x480 with 1 Axes>"
      ]
     },
     "metadata": {},
     "output_type": "display_data"
    }
   ],
   "source": [
    "plt.bar(algo, success_rate, color=['r','b'], width=0.4)\n",
    "plt.xlabel(\"Algorithm of Recommendation\")\n",
    "plt.ylabel(\"Success Rate\")\n",
    "plt.show()"
   ]
  },
  {
   "cell_type": "code",
   "execution_count": null,
   "id": "cd0f1fa0-c100-402b-937a-26b3f50f1abc",
   "metadata": {},
   "outputs": [],
   "source": []
  },
  {
   "cell_type": "markdown",
   "id": "b86a66bc-90bb-40d6-a7a2-b8d26785cf9d",
   "metadata": {},
   "source": [
    "# Conclusion"
   ]
  },
  {
   "cell_type": "markdown",
   "id": "d53edc2a-6268-4095-a976-7f55c350a6e2",
   "metadata": {},
   "source": [
    "- As per the both plotting, We see that Content Based recommendation is better. In the first plot, it has more total clicks by users than Collaborative one.\n"
   ]
  },
  {
   "cell_type": "markdown",
   "id": "d8007865-efa4-4ec9-b911-1621aeaa9491",
   "metadata": {},
   "source": [
    "- In the second graph, also Content Based is showing higher success rate. It means more users gave ratings after using this method."
   ]
  },
  {
   "cell_type": "markdown",
   "id": "72c0f422-dfd2-44de-9a75-641bc75086cc",
   "metadata": {},
   "source": [
    "- So, overall Content Based algorithm is looking more effective in both ways-\n",
    "- - it gets more clicks and more ratings.\n",
    "  - So, it can be a better choice for recommendation system.\n"
   ]
  },
  {
   "cell_type": "code",
   "execution_count": null,
   "id": "c011a44d-8d20-491e-8d69-50caff010e51",
   "metadata": {},
   "outputs": [],
   "source": []
  },
  {
   "cell_type": "code",
   "execution_count": null,
   "id": "1a878f6e-72be-41d8-be78-43b36677f7ac",
   "metadata": {},
   "outputs": [],
   "source": []
  }
 ],
 "metadata": {
  "kernelspec": {
   "display_name": ".v_env",
   "language": "python",
   "name": ".v_env"
  },
  "language_info": {
   "codemirror_mode": {
    "name": "ipython",
    "version": 3
   },
   "file_extension": ".py",
   "mimetype": "text/x-python",
   "name": "python",
   "nbconvert_exporter": "python",
   "pygments_lexer": "ipython3",
   "version": "3.10.6"
  }
 },
 "nbformat": 4,
 "nbformat_minor": 5
}
