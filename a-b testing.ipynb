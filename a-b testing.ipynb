{
 "cells": [
  {
   "cell_type": "code",
   "execution_count": 98,
   "id": "7818928d-02bb-4b39-816f-7549810b5e90",
   "metadata": {},
   "outputs": [],
   "source": [
    "from pymongo import MongoClient\n",
    "import pandas as pd\n",
    "from scipy import stats"
   ]
  },
  {
   "cell_type": "code",
   "execution_count": 132,
   "id": "144d8d3f-2693-4096-83fa-1c7cc12eea5d",
   "metadata": {},
   "outputs": [],
   "source": [
    "# Connect to MongoDB and load all logs into a DataFrame\n",
    "client = MongoClient('mongodb://localhost:27017/')\n",
    "db = client['user_db']\n",
    "logs_collection = db['user_logs']"
   ]
  },
  {
   "cell_type": "code",
   "execution_count": null,
   "id": "9c821edc-4f1b-4ebc-accb-8297addac0c3",
   "metadata": {},
   "outputs": [],
   "source": []
  },
  {
   "cell_type": "code",
   "execution_count": 100,
   "id": "0b2c66c7-57a6-4a3e-baac-2c40a6707b48",
   "metadata": {},
   "outputs": [],
   "source": [
    "logs = pd.DataFrame(list(logs_collection.find()))"
   ]
  },
  {
   "cell_type": "code",
   "execution_count": 101,
   "id": "8da7f517-5103-45c7-8b20-231c1bc9a840",
   "metadata": {},
   "outputs": [
    {
     "data": {
      "text/html": [
       "<div>\n",
       "<style scoped>\n",
       "    .dataframe tbody tr th:only-of-type {\n",
       "        vertical-align: middle;\n",
       "    }\n",
       "\n",
       "    .dataframe tbody tr th {\n",
       "        vertical-align: top;\n",
       "    }\n",
       "\n",
       "    .dataframe thead th {\n",
       "        text-align: right;\n",
       "    }\n",
       "</style>\n",
       "<table border=\"1\" class=\"dataframe\">\n",
       "  <thead>\n",
       "    <tr style=\"text-align: right;\">\n",
       "      <th></th>\n",
       "      <th>_id</th>\n",
       "      <th>user</th>\n",
       "      <th>action</th>\n",
       "      <th>details</th>\n",
       "      <th>timestamp</th>\n",
       "    </tr>\n",
       "  </thead>\n",
       "  <tbody>\n",
       "    <tr>\n",
       "      <th>0</th>\n",
       "      <td>6868331278b9f6fa6049f95b</td>\n",
       "      <td>{'userId': 1, 'username': 'mohit'}</td>\n",
       "      <td>login</td>\n",
       "      <td>{}</td>\n",
       "      <td>2025-07-04 20:01:22.656</td>\n",
       "    </tr>\n",
       "    <tr>\n",
       "      <th>1</th>\n",
       "      <td>6868331278b9f6fa6049f95c</td>\n",
       "      <td>{'userId': 7, 'username': 'rahul'}</td>\n",
       "      <td>logout</td>\n",
       "      <td>{}</td>\n",
       "      <td>2025-07-01 21:05:39.793</td>\n",
       "    </tr>\n",
       "    <tr>\n",
       "      <th>2</th>\n",
       "      <td>6868331278b9f6fa6049f95d</td>\n",
       "      <td>{'userId': 4, 'username': 'arjun'}</td>\n",
       "      <td>login</td>\n",
       "      <td>{}</td>\n",
       "      <td>2025-06-28 03:03:08.327</td>\n",
       "    </tr>\n",
       "    <tr>\n",
       "      <th>3</th>\n",
       "      <td>6868331278b9f6fa6049f95e</td>\n",
       "      <td>{'userId': 8, 'username': 'vikram'}</td>\n",
       "      <td>request recommendation</td>\n",
       "      <td>{'type': 'Content-Based Recommendation'}</td>\n",
       "      <td>2025-06-27 22:24:12.267</td>\n",
       "    </tr>\n",
       "    <tr>\n",
       "      <th>4</th>\n",
       "      <td>6868331278b9f6fa6049f95f</td>\n",
       "      <td>{'userId': 1, 'username': 'mohit'}</td>\n",
       "      <td>logout</td>\n",
       "      <td>{}</td>\n",
       "      <td>2025-06-30 07:20:12.400</td>\n",
       "    </tr>\n",
       "    <tr>\n",
       "      <th>...</th>\n",
       "      <td>...</td>\n",
       "      <td>...</td>\n",
       "      <td>...</td>\n",
       "      <td>...</td>\n",
       "      <td>...</td>\n",
       "    </tr>\n",
       "    <tr>\n",
       "      <th>391</th>\n",
       "      <td>686833e47625b794f0ac97f3</td>\n",
       "      <td>{'userId': 10, 'username': 'manish'}</td>\n",
       "      <td>save_ratings</td>\n",
       "      <td>{'watched_movies': ['12', '34'], 'rated_movies...</td>\n",
       "      <td>2025-07-01 02:02:22.290</td>\n",
       "    </tr>\n",
       "    <tr>\n",
       "      <th>392</th>\n",
       "      <td>686833e47625b794f0ac97f4</td>\n",
       "      <td>{'userId': 1, 'username': 'mohit'}</td>\n",
       "      <td>request recommendation</td>\n",
       "      <td>{'type': 'Collaborative Recommendation'}</td>\n",
       "      <td>2025-07-03 00:02:38.796</td>\n",
       "    </tr>\n",
       "    <tr>\n",
       "      <th>393</th>\n",
       "      <td>686833e47625b794f0ac97f5</td>\n",
       "      <td>{'userId': 6, 'username': 'karan'}</td>\n",
       "      <td>login</td>\n",
       "      <td>{}</td>\n",
       "      <td>2025-07-03 11:34:16.094</td>\n",
       "    </tr>\n",
       "    <tr>\n",
       "      <th>394</th>\n",
       "      <td>686833e47625b794f0ac97f6</td>\n",
       "      <td>{'userId': 9, 'username': 'aarav'}</td>\n",
       "      <td>logout</td>\n",
       "      <td>{}</td>\n",
       "      <td>2025-07-03 13:43:42.964</td>\n",
       "    </tr>\n",
       "    <tr>\n",
       "      <th>395</th>\n",
       "      <td>686833e47625b794f0ac97f7</td>\n",
       "      <td>{'userId': 5, 'username': 'aditya'}</td>\n",
       "      <td>save_ratings</td>\n",
       "      <td>{'watched_movies': ['1', '23', '45'], 'rated_m...</td>\n",
       "      <td>2025-06-30 08:57:32.378</td>\n",
       "    </tr>\n",
       "  </tbody>\n",
       "</table>\n",
       "<p>396 rows × 5 columns</p>\n",
       "</div>"
      ],
      "text/plain": [
       "                          _id                                  user  \\\n",
       "0    6868331278b9f6fa6049f95b    {'userId': 1, 'username': 'mohit'}   \n",
       "1    6868331278b9f6fa6049f95c    {'userId': 7, 'username': 'rahul'}   \n",
       "2    6868331278b9f6fa6049f95d    {'userId': 4, 'username': 'arjun'}   \n",
       "3    6868331278b9f6fa6049f95e   {'userId': 8, 'username': 'vikram'}   \n",
       "4    6868331278b9f6fa6049f95f    {'userId': 1, 'username': 'mohit'}   \n",
       "..                        ...                                   ...   \n",
       "391  686833e47625b794f0ac97f3  {'userId': 10, 'username': 'manish'}   \n",
       "392  686833e47625b794f0ac97f4    {'userId': 1, 'username': 'mohit'}   \n",
       "393  686833e47625b794f0ac97f5    {'userId': 6, 'username': 'karan'}   \n",
       "394  686833e47625b794f0ac97f6    {'userId': 9, 'username': 'aarav'}   \n",
       "395  686833e47625b794f0ac97f7   {'userId': 5, 'username': 'aditya'}   \n",
       "\n",
       "                     action  \\\n",
       "0                     login   \n",
       "1                    logout   \n",
       "2                     login   \n",
       "3    request recommendation   \n",
       "4                    logout   \n",
       "..                      ...   \n",
       "391            save_ratings   \n",
       "392  request recommendation   \n",
       "393                   login   \n",
       "394                  logout   \n",
       "395            save_ratings   \n",
       "\n",
       "                                               details               timestamp  \n",
       "0                                                   {} 2025-07-04 20:01:22.656  \n",
       "1                                                   {} 2025-07-01 21:05:39.793  \n",
       "2                                                   {} 2025-06-28 03:03:08.327  \n",
       "3             {'type': 'Content-Based Recommendation'} 2025-06-27 22:24:12.267  \n",
       "4                                                   {} 2025-06-30 07:20:12.400  \n",
       "..                                                 ...                     ...  \n",
       "391  {'watched_movies': ['12', '34'], 'rated_movies... 2025-07-01 02:02:22.290  \n",
       "392           {'type': 'Collaborative Recommendation'} 2025-07-03 00:02:38.796  \n",
       "393                                                 {} 2025-07-03 11:34:16.094  \n",
       "394                                                 {} 2025-07-03 13:43:42.964  \n",
       "395  {'watched_movies': ['1', '23', '45'], 'rated_m... 2025-06-30 08:57:32.378  \n",
       "\n",
       "[396 rows x 5 columns]"
      ]
     },
     "execution_count": 101,
     "metadata": {},
     "output_type": "execute_result"
    }
   ],
   "source": [
    "logs"
   ]
  },
  {
   "cell_type": "code",
   "execution_count": 102,
   "id": "a8095174-6c4c-4a0d-bde3-587f96f93bab",
   "metadata": {},
   "outputs": [
    {
     "data": {
      "text/plain": [
       "(396, 5)"
      ]
     },
     "execution_count": 102,
     "metadata": {},
     "output_type": "execute_result"
    }
   ],
   "source": [
    "logs.shape"
   ]
  },
  {
   "cell_type": "code",
   "execution_count": 103,
   "id": "68de88e6-7bd0-43b3-b397-2c68503eb0cc",
   "metadata": {},
   "outputs": [],
   "source": [
    "logs['timestamp'] = pd.to_datetime(logs['timestamp'])"
   ]
  },
  {
   "cell_type": "code",
   "execution_count": 104,
   "id": "02a2d62b-f795-4597-a004-09ce7dd4efcf",
   "metadata": {},
   "outputs": [],
   "source": [
    "# Extract username into its own column\n",
    "logs['username'] = logs['user'].apply(\n",
    "    lambda u: u.get('username') if isinstance(u, dict) else None\n",
    ")"
   ]
  },
  {
   "cell_type": "code",
   "execution_count": 105,
   "id": "49af8907-e14c-42db-beea-3d77587be1e4",
   "metadata": {},
   "outputs": [],
   "source": [
    "reqs = logs[logs['action'] == 'request recommendation']"
   ]
  },
  {
   "cell_type": "code",
   "execution_count": 106,
   "id": "5b94cdcb-3699-4f1e-89e8-becb6ee98f7e",
   "metadata": {},
   "outputs": [
    {
     "data": {
      "text/html": [
       "<div>\n",
       "<style scoped>\n",
       "    .dataframe tbody tr th:only-of-type {\n",
       "        vertical-align: middle;\n",
       "    }\n",
       "\n",
       "    .dataframe tbody tr th {\n",
       "        vertical-align: top;\n",
       "    }\n",
       "\n",
       "    .dataframe thead th {\n",
       "        text-align: right;\n",
       "    }\n",
       "</style>\n",
       "<table border=\"1\" class=\"dataframe\">\n",
       "  <thead>\n",
       "    <tr style=\"text-align: right;\">\n",
       "      <th></th>\n",
       "      <th>_id</th>\n",
       "      <th>user</th>\n",
       "      <th>action</th>\n",
       "      <th>details</th>\n",
       "      <th>timestamp</th>\n",
       "      <th>username</th>\n",
       "    </tr>\n",
       "  </thead>\n",
       "  <tbody>\n",
       "    <tr>\n",
       "      <th>3</th>\n",
       "      <td>6868331278b9f6fa6049f95e</td>\n",
       "      <td>{'userId': 8, 'username': 'vikram'}</td>\n",
       "      <td>request recommendation</td>\n",
       "      <td>{'type': 'Content-Based Recommendation'}</td>\n",
       "      <td>2025-06-27 22:24:12.267</td>\n",
       "      <td>vikram</td>\n",
       "    </tr>\n",
       "    <tr>\n",
       "      <th>19</th>\n",
       "      <td>6868331278b9f6fa6049f972</td>\n",
       "      <td>{'userId': 7, 'username': 'rahul'}</td>\n",
       "      <td>request recommendation</td>\n",
       "      <td>{'type': 'Content-Based Recommendation'}</td>\n",
       "      <td>2025-06-30 10:44:43.443</td>\n",
       "      <td>rahul</td>\n",
       "    </tr>\n",
       "    <tr>\n",
       "      <th>24</th>\n",
       "      <td>6868331278b9f6fa6049f977</td>\n",
       "      <td>{'userId': 9, 'username': 'aarav'}</td>\n",
       "      <td>request recommendation</td>\n",
       "      <td>{'type': 'Content-Based Recommendation'}</td>\n",
       "      <td>2025-06-28 16:30:16.548</td>\n",
       "      <td>aarav</td>\n",
       "    </tr>\n",
       "    <tr>\n",
       "      <th>25</th>\n",
       "      <td>6868331278b9f6fa6049f978</td>\n",
       "      <td>{'userId': 9, 'username': 'aarav'}</td>\n",
       "      <td>request recommendation</td>\n",
       "      <td>{'type': 'Content-Based Recommendation'}</td>\n",
       "      <td>2025-07-04 08:00:41.731</td>\n",
       "      <td>aarav</td>\n",
       "    </tr>\n",
       "    <tr>\n",
       "      <th>26</th>\n",
       "      <td>6868331278b9f6fa6049f979</td>\n",
       "      <td>{'userId': 10, 'username': 'manish'}</td>\n",
       "      <td>request recommendation</td>\n",
       "      <td>{'type': 'Content-Based Recommendation'}</td>\n",
       "      <td>2025-07-02 00:17:38.866</td>\n",
       "      <td>manish</td>\n",
       "    </tr>\n",
       "    <tr>\n",
       "      <th>...</th>\n",
       "      <td>...</td>\n",
       "      <td>...</td>\n",
       "      <td>...</td>\n",
       "      <td>...</td>\n",
       "      <td>...</td>\n",
       "      <td>...</td>\n",
       "    </tr>\n",
       "    <tr>\n",
       "      <th>370</th>\n",
       "      <td>686833e47625b794f0ac97de</td>\n",
       "      <td>{'userId': 6, 'username': 'karan'}</td>\n",
       "      <td>request recommendation</td>\n",
       "      <td>{'type': 'Collaborative Recommendation'}</td>\n",
       "      <td>2025-07-02 01:41:49.803</td>\n",
       "      <td>karan</td>\n",
       "    </tr>\n",
       "    <tr>\n",
       "      <th>372</th>\n",
       "      <td>686833e47625b794f0ac97e0</td>\n",
       "      <td>{'userId': 7, 'username': 'rahul'}</td>\n",
       "      <td>request recommendation</td>\n",
       "      <td>{'type': 'Content-Based Recommendation'}</td>\n",
       "      <td>2025-07-01 04:56:03.793</td>\n",
       "      <td>rahul</td>\n",
       "    </tr>\n",
       "    <tr>\n",
       "      <th>382</th>\n",
       "      <td>686833e47625b794f0ac97ea</td>\n",
       "      <td>{'userId': 6, 'username': 'karan'}</td>\n",
       "      <td>request recommendation</td>\n",
       "      <td>{'type': 'Collaborative Recommendation'}</td>\n",
       "      <td>2025-06-29 18:04:46.587</td>\n",
       "      <td>karan</td>\n",
       "    </tr>\n",
       "    <tr>\n",
       "      <th>390</th>\n",
       "      <td>686833e47625b794f0ac97f2</td>\n",
       "      <td>{'userId': 3, 'username': 'rohan'}</td>\n",
       "      <td>request recommendation</td>\n",
       "      <td>{'type': 'Collaborative Recommendation'}</td>\n",
       "      <td>2025-06-30 08:48:09.504</td>\n",
       "      <td>rohan</td>\n",
       "    </tr>\n",
       "    <tr>\n",
       "      <th>392</th>\n",
       "      <td>686833e47625b794f0ac97f4</td>\n",
       "      <td>{'userId': 1, 'username': 'mohit'}</td>\n",
       "      <td>request recommendation</td>\n",
       "      <td>{'type': 'Collaborative Recommendation'}</td>\n",
       "      <td>2025-07-03 00:02:38.796</td>\n",
       "      <td>mohit</td>\n",
       "    </tr>\n",
       "  </tbody>\n",
       "</table>\n",
       "<p>101 rows × 6 columns</p>\n",
       "</div>"
      ],
      "text/plain": [
       "                          _id                                  user  \\\n",
       "3    6868331278b9f6fa6049f95e   {'userId': 8, 'username': 'vikram'}   \n",
       "19   6868331278b9f6fa6049f972    {'userId': 7, 'username': 'rahul'}   \n",
       "24   6868331278b9f6fa6049f977    {'userId': 9, 'username': 'aarav'}   \n",
       "25   6868331278b9f6fa6049f978    {'userId': 9, 'username': 'aarav'}   \n",
       "26   6868331278b9f6fa6049f979  {'userId': 10, 'username': 'manish'}   \n",
       "..                        ...                                   ...   \n",
       "370  686833e47625b794f0ac97de    {'userId': 6, 'username': 'karan'}   \n",
       "372  686833e47625b794f0ac97e0    {'userId': 7, 'username': 'rahul'}   \n",
       "382  686833e47625b794f0ac97ea    {'userId': 6, 'username': 'karan'}   \n",
       "390  686833e47625b794f0ac97f2    {'userId': 3, 'username': 'rohan'}   \n",
       "392  686833e47625b794f0ac97f4    {'userId': 1, 'username': 'mohit'}   \n",
       "\n",
       "                     action                                   details  \\\n",
       "3    request recommendation  {'type': 'Content-Based Recommendation'}   \n",
       "19   request recommendation  {'type': 'Content-Based Recommendation'}   \n",
       "24   request recommendation  {'type': 'Content-Based Recommendation'}   \n",
       "25   request recommendation  {'type': 'Content-Based Recommendation'}   \n",
       "26   request recommendation  {'type': 'Content-Based Recommendation'}   \n",
       "..                      ...                                       ...   \n",
       "370  request recommendation  {'type': 'Collaborative Recommendation'}   \n",
       "372  request recommendation  {'type': 'Content-Based Recommendation'}   \n",
       "382  request recommendation  {'type': 'Collaborative Recommendation'}   \n",
       "390  request recommendation  {'type': 'Collaborative Recommendation'}   \n",
       "392  request recommendation  {'type': 'Collaborative Recommendation'}   \n",
       "\n",
       "                  timestamp username  \n",
       "3   2025-06-27 22:24:12.267   vikram  \n",
       "19  2025-06-30 10:44:43.443    rahul  \n",
       "24  2025-06-28 16:30:16.548    aarav  \n",
       "25  2025-07-04 08:00:41.731    aarav  \n",
       "26  2025-07-02 00:17:38.866   manish  \n",
       "..                      ...      ...  \n",
       "370 2025-07-02 01:41:49.803    karan  \n",
       "372 2025-07-01 04:56:03.793    rahul  \n",
       "382 2025-06-29 18:04:46.587    karan  \n",
       "390 2025-06-30 08:48:09.504    rohan  \n",
       "392 2025-07-03 00:02:38.796    mohit  \n",
       "\n",
       "[101 rows x 6 columns]"
      ]
     },
     "execution_count": 106,
     "metadata": {},
     "output_type": "execute_result"
    }
   ],
   "source": [
    "reqs"
   ]
  },
  {
   "cell_type": "code",
   "execution_count": null,
   "id": "0e4851ce-6dac-4cb0-b749-6eca99f5176b",
   "metadata": {},
   "outputs": [],
   "source": []
  },
  {
   "cell_type": "markdown",
   "id": "0aea0db8-553c-402f-9137-2b9c7a30f3ac",
   "metadata": {},
   "source": [
    "# Request‐Count (your “most recommendation click” analogue)"
   ]
  },
  {
   "cell_type": "code",
   "execution_count": 133,
   "id": "9aa33849-7938-4bf0-97d2-1df0d81228bc",
   "metadata": {},
   "outputs": [],
   "source": [
    "# labeling each request as A and B\n",
    "def label_varient(details):\n",
    "    if details.get('type') == \"Collaborative Recommendation\":\n",
    "        return 'A'   # group A = collaborative\n",
    "    else:\n",
    "        return 'B'   # group B = content-based"
   ]
  },
  {
   "cell_type": "code",
   "execution_count": null,
   "id": "de0c5ee8-8a1f-4e9b-8168-95f9872f8919",
   "metadata": {},
   "outputs": [],
   "source": []
  },
  {
   "cell_type": "code",
   "execution_count": 108,
   "id": "2a31595d-ebd2-4d8f-ba7c-f580715cc4de",
   "metadata": {},
   "outputs": [
    {
     "name": "stderr",
     "output_type": "stream",
     "text": [
      "C:\\Users\\write\\AppData\\Local\\Temp\\ipykernel_12212\\3717335074.py:1: SettingWithCopyWarning: \n",
      "A value is trying to be set on a copy of a slice from a DataFrame.\n",
      "Try using .loc[row_indexer,col_indexer] = value instead\n",
      "\n",
      "See the caveats in the documentation: https://pandas.pydata.org/pandas-docs/stable/user_guide/indexing.html#returning-a-view-versus-a-copy\n",
      "  reqs['varient'] = reqs['details'].apply(label_varient)\n"
     ]
    }
   ],
   "source": [
    "reqs['varient'] = reqs['details'].apply(label_varient)"
   ]
  },
  {
   "cell_type": "code",
   "execution_count": 109,
   "id": "0edce207-6397-42bc-82d4-6f2aa51c4e60",
   "metadata": {},
   "outputs": [
    {
     "data": {
      "text/html": [
       "<div>\n",
       "<style scoped>\n",
       "    .dataframe tbody tr th:only-of-type {\n",
       "        vertical-align: middle;\n",
       "    }\n",
       "\n",
       "    .dataframe tbody tr th {\n",
       "        vertical-align: top;\n",
       "    }\n",
       "\n",
       "    .dataframe thead th {\n",
       "        text-align: right;\n",
       "    }\n",
       "</style>\n",
       "<table border=\"1\" class=\"dataframe\">\n",
       "  <thead>\n",
       "    <tr style=\"text-align: right;\">\n",
       "      <th></th>\n",
       "      <th>_id</th>\n",
       "      <th>user</th>\n",
       "      <th>action</th>\n",
       "      <th>details</th>\n",
       "      <th>timestamp</th>\n",
       "      <th>username</th>\n",
       "      <th>varient</th>\n",
       "    </tr>\n",
       "  </thead>\n",
       "  <tbody>\n",
       "    <tr>\n",
       "      <th>3</th>\n",
       "      <td>6868331278b9f6fa6049f95e</td>\n",
       "      <td>{'userId': 8, 'username': 'vikram'}</td>\n",
       "      <td>request recommendation</td>\n",
       "      <td>{'type': 'Content-Based Recommendation'}</td>\n",
       "      <td>2025-06-27 22:24:12.267</td>\n",
       "      <td>vikram</td>\n",
       "      <td>B</td>\n",
       "    </tr>\n",
       "    <tr>\n",
       "      <th>19</th>\n",
       "      <td>6868331278b9f6fa6049f972</td>\n",
       "      <td>{'userId': 7, 'username': 'rahul'}</td>\n",
       "      <td>request recommendation</td>\n",
       "      <td>{'type': 'Content-Based Recommendation'}</td>\n",
       "      <td>2025-06-30 10:44:43.443</td>\n",
       "      <td>rahul</td>\n",
       "      <td>B</td>\n",
       "    </tr>\n",
       "    <tr>\n",
       "      <th>24</th>\n",
       "      <td>6868331278b9f6fa6049f977</td>\n",
       "      <td>{'userId': 9, 'username': 'aarav'}</td>\n",
       "      <td>request recommendation</td>\n",
       "      <td>{'type': 'Content-Based Recommendation'}</td>\n",
       "      <td>2025-06-28 16:30:16.548</td>\n",
       "      <td>aarav</td>\n",
       "      <td>B</td>\n",
       "    </tr>\n",
       "    <tr>\n",
       "      <th>25</th>\n",
       "      <td>6868331278b9f6fa6049f978</td>\n",
       "      <td>{'userId': 9, 'username': 'aarav'}</td>\n",
       "      <td>request recommendation</td>\n",
       "      <td>{'type': 'Content-Based Recommendation'}</td>\n",
       "      <td>2025-07-04 08:00:41.731</td>\n",
       "      <td>aarav</td>\n",
       "      <td>B</td>\n",
       "    </tr>\n",
       "    <tr>\n",
       "      <th>26</th>\n",
       "      <td>6868331278b9f6fa6049f979</td>\n",
       "      <td>{'userId': 10, 'username': 'manish'}</td>\n",
       "      <td>request recommendation</td>\n",
       "      <td>{'type': 'Content-Based Recommendation'}</td>\n",
       "      <td>2025-07-02 00:17:38.866</td>\n",
       "      <td>manish</td>\n",
       "      <td>B</td>\n",
       "    </tr>\n",
       "    <tr>\n",
       "      <th>...</th>\n",
       "      <td>...</td>\n",
       "      <td>...</td>\n",
       "      <td>...</td>\n",
       "      <td>...</td>\n",
       "      <td>...</td>\n",
       "      <td>...</td>\n",
       "      <td>...</td>\n",
       "    </tr>\n",
       "    <tr>\n",
       "      <th>370</th>\n",
       "      <td>686833e47625b794f0ac97de</td>\n",
       "      <td>{'userId': 6, 'username': 'karan'}</td>\n",
       "      <td>request recommendation</td>\n",
       "      <td>{'type': 'Collaborative Recommendation'}</td>\n",
       "      <td>2025-07-02 01:41:49.803</td>\n",
       "      <td>karan</td>\n",
       "      <td>A</td>\n",
       "    </tr>\n",
       "    <tr>\n",
       "      <th>372</th>\n",
       "      <td>686833e47625b794f0ac97e0</td>\n",
       "      <td>{'userId': 7, 'username': 'rahul'}</td>\n",
       "      <td>request recommendation</td>\n",
       "      <td>{'type': 'Content-Based Recommendation'}</td>\n",
       "      <td>2025-07-01 04:56:03.793</td>\n",
       "      <td>rahul</td>\n",
       "      <td>B</td>\n",
       "    </tr>\n",
       "    <tr>\n",
       "      <th>382</th>\n",
       "      <td>686833e47625b794f0ac97ea</td>\n",
       "      <td>{'userId': 6, 'username': 'karan'}</td>\n",
       "      <td>request recommendation</td>\n",
       "      <td>{'type': 'Collaborative Recommendation'}</td>\n",
       "      <td>2025-06-29 18:04:46.587</td>\n",
       "      <td>karan</td>\n",
       "      <td>A</td>\n",
       "    </tr>\n",
       "    <tr>\n",
       "      <th>390</th>\n",
       "      <td>686833e47625b794f0ac97f2</td>\n",
       "      <td>{'userId': 3, 'username': 'rohan'}</td>\n",
       "      <td>request recommendation</td>\n",
       "      <td>{'type': 'Collaborative Recommendation'}</td>\n",
       "      <td>2025-06-30 08:48:09.504</td>\n",
       "      <td>rohan</td>\n",
       "      <td>A</td>\n",
       "    </tr>\n",
       "    <tr>\n",
       "      <th>392</th>\n",
       "      <td>686833e47625b794f0ac97f4</td>\n",
       "      <td>{'userId': 1, 'username': 'mohit'}</td>\n",
       "      <td>request recommendation</td>\n",
       "      <td>{'type': 'Collaborative Recommendation'}</td>\n",
       "      <td>2025-07-03 00:02:38.796</td>\n",
       "      <td>mohit</td>\n",
       "      <td>A</td>\n",
       "    </tr>\n",
       "  </tbody>\n",
       "</table>\n",
       "<p>101 rows × 7 columns</p>\n",
       "</div>"
      ],
      "text/plain": [
       "                          _id                                  user  \\\n",
       "3    6868331278b9f6fa6049f95e   {'userId': 8, 'username': 'vikram'}   \n",
       "19   6868331278b9f6fa6049f972    {'userId': 7, 'username': 'rahul'}   \n",
       "24   6868331278b9f6fa6049f977    {'userId': 9, 'username': 'aarav'}   \n",
       "25   6868331278b9f6fa6049f978    {'userId': 9, 'username': 'aarav'}   \n",
       "26   6868331278b9f6fa6049f979  {'userId': 10, 'username': 'manish'}   \n",
       "..                        ...                                   ...   \n",
       "370  686833e47625b794f0ac97de    {'userId': 6, 'username': 'karan'}   \n",
       "372  686833e47625b794f0ac97e0    {'userId': 7, 'username': 'rahul'}   \n",
       "382  686833e47625b794f0ac97ea    {'userId': 6, 'username': 'karan'}   \n",
       "390  686833e47625b794f0ac97f2    {'userId': 3, 'username': 'rohan'}   \n",
       "392  686833e47625b794f0ac97f4    {'userId': 1, 'username': 'mohit'}   \n",
       "\n",
       "                     action                                   details  \\\n",
       "3    request recommendation  {'type': 'Content-Based Recommendation'}   \n",
       "19   request recommendation  {'type': 'Content-Based Recommendation'}   \n",
       "24   request recommendation  {'type': 'Content-Based Recommendation'}   \n",
       "25   request recommendation  {'type': 'Content-Based Recommendation'}   \n",
       "26   request recommendation  {'type': 'Content-Based Recommendation'}   \n",
       "..                      ...                                       ...   \n",
       "370  request recommendation  {'type': 'Collaborative Recommendation'}   \n",
       "372  request recommendation  {'type': 'Content-Based Recommendation'}   \n",
       "382  request recommendation  {'type': 'Collaborative Recommendation'}   \n",
       "390  request recommendation  {'type': 'Collaborative Recommendation'}   \n",
       "392  request recommendation  {'type': 'Collaborative Recommendation'}   \n",
       "\n",
       "                  timestamp username varient  \n",
       "3   2025-06-27 22:24:12.267   vikram       B  \n",
       "19  2025-06-30 10:44:43.443    rahul       B  \n",
       "24  2025-06-28 16:30:16.548    aarav       B  \n",
       "25  2025-07-04 08:00:41.731    aarav       B  \n",
       "26  2025-07-02 00:17:38.866   manish       B  \n",
       "..                      ...      ...     ...  \n",
       "370 2025-07-02 01:41:49.803    karan       A  \n",
       "372 2025-07-01 04:56:03.793    rahul       B  \n",
       "382 2025-06-29 18:04:46.587    karan       A  \n",
       "390 2025-06-30 08:48:09.504    rohan       A  \n",
       "392 2025-07-03 00:02:38.796    mohit       A  \n",
       "\n",
       "[101 rows x 7 columns]"
      ]
     },
     "execution_count": 109,
     "metadata": {},
     "output_type": "execute_result"
    }
   ],
   "source": [
    "reqs"
   ]
  },
  {
   "cell_type": "code",
   "execution_count": 110,
   "id": "62976df1-0473-401a-808e-f937b2fc2664",
   "metadata": {},
   "outputs": [],
   "source": [
    "reqs_count = reqs.groupby('varient').size()"
   ]
  },
  {
   "cell_type": "code",
   "execution_count": 111,
   "id": "2497d864-e54b-4198-8b57-b51d0d27b360",
   "metadata": {},
   "outputs": [
    {
     "data": {
      "text/plain": [
       "varient\n",
       "A    44\n",
       "B    57\n",
       "dtype: int64"
      ]
     },
     "execution_count": 111,
     "metadata": {},
     "output_type": "execute_result"
    }
   ],
   "source": [
    "reqs_count"
   ]
  },
  {
   "cell_type": "code",
   "execution_count": 112,
   "id": "2c2c0cf2-b222-4936-aa22-02d0ea0483c1",
   "metadata": {},
   "outputs": [
    {
     "name": "stdout",
     "output_type": "stream",
     "text": [
      "Total Requests: \n",
      "varient\n",
      "A    44\n",
      "B    57\n",
      "dtype: int64\n"
     ]
    }
   ],
   "source": [
    "print(f\"Total Requests: \\n{reqs_count}\")"
   ]
  },
  {
   "cell_type": "markdown",
   "id": "87e9518c-0755-49fb-8b06-251eeb58446f",
   "metadata": {},
   "source": [
    "###### Ploting"
   ]
  },
  {
   "cell_type": "code",
   "execution_count": 113,
   "id": "71da9e45-46d6-437c-825a-ac30f14a44aa",
   "metadata": {},
   "outputs": [
    {
     "name": "stderr",
     "output_type": "stream",
     "text": [
      "C:\\Users\\write\\AppData\\Local\\Temp\\ipykernel_12212\\2268965689.py:1: FutureWarning: Series.__getitem__ treating keys as positions is deprecated. In a future version, integer keys will always be treated as labels (consistent with DataFrame behavior). To access a value by position, use `ser.iloc[pos]`\n",
      "  total_clicks = [reqs_count[0], reqs_count[1]]\n"
     ]
    }
   ],
   "source": [
    "total_clicks = [reqs_count[0], reqs_count[1]]\n",
    "algo = [\"Collaborative Recommendation\", \"Content Based\"]"
   ]
  },
  {
   "cell_type": "code",
   "execution_count": 114,
   "id": "6c259f83-fa42-4ca7-8e34-2a196542ea59",
   "metadata": {},
   "outputs": [
    {
     "data": {
      "text/plain": [
       "[np.int64(44), np.int64(57)]"
      ]
     },
     "execution_count": 114,
     "metadata": {},
     "output_type": "execute_result"
    }
   ],
   "source": [
    "total_clicks"
   ]
  },
  {
   "cell_type": "code",
   "execution_count": 115,
   "id": "056de4a9-11ac-441b-b0ef-813e70f0d29c",
   "metadata": {},
   "outputs": [
    {
     "data": {
      "text/plain": [
       "['Collaborative Recommendation', 'Content Based']"
      ]
     },
     "execution_count": 115,
     "metadata": {},
     "output_type": "execute_result"
    }
   ],
   "source": [
    "algo"
   ]
  },
  {
   "cell_type": "code",
   "execution_count": 116,
   "id": "054265ad-994d-4244-8af1-63fbd79c0056",
   "metadata": {},
   "outputs": [
    {
     "data": {
      "image/png": "[encoded data removed]",
      "text/plain": [
       "<Figure size 640x480 with 1 Axes>"
      ]
     },
     "metadata": {},
     "output_type": "display_data"
    }
   ],
   "source": [
    "plt.bar(algo, total_clicks, color=['r', 'b'], width=0.4)\n",
    "plt.xlabel(\"Algorithm\")\n",
    "plt.ylabel(\"Total Clicks by User\")\n",
    "\n",
    "plt.grid()\n",
    "plt.show()"
   ]
  },
  {
   "cell_type": "markdown",
   "id": "f279ab6f-b287-4ccb-96e2-0b5192ed92df",
   "metadata": {},
   "source": [
    "# Success Rates (Rating to Movies)\n"
   ]
  },
  {
   "cell_type": "markdown",
   "id": "6204cfbe-e7a1-4067-9bda-1fcce5d650c9",
   "metadata": {},
   "source": [
    "#### We Check - Did the user ever rate any movie after each request?"
   ]
  },
  {
   "cell_type": "code",
   "execution_count": 117,
   "id": "dcd63a0d-b21e-4696-aa9e-3ab4a3b06741",
   "metadata": {},
   "outputs": [],
   "source": [
    "def did_rate(row):\n",
    "    user = row['username']\n",
    "    t0 = row['timestamp']\n",
    "\n",
    "    mask = (\n",
    "        (logs['username'] == user) &\n",
    "        (logs['action'] == 'save_ratings') & \n",
    "        (logs['timestamp'] > t0)\n",
    "    )\n",
    "    \n",
    "    return int(mask.any())"
   ]
  },
  {
   "cell_type": "code",
   "execution_count": 118,
   "id": "4636d1e3-0f3a-4e05-9b9b-aca3dc77e15a",
   "metadata": {},
   "outputs": [
    {
     "data": {
      "text/html": [
       "<div>\n",
       "<style scoped>\n",
       "    .dataframe tbody tr th:only-of-type {\n",
       "        vertical-align: middle;\n",
       "    }\n",
       "\n",
       "    .dataframe tbody tr th {\n",
       "        vertical-align: top;\n",
       "    }\n",
       "\n",
       "    .dataframe thead th {\n",
       "        text-align: right;\n",
       "    }\n",
       "</style>\n",
       "<table border=\"1\" class=\"dataframe\">\n",
       "  <thead>\n",
       "    <tr style=\"text-align: right;\">\n",
       "      <th></th>\n",
       "      <th>_id</th>\n",
       "      <th>user</th>\n",
       "      <th>action</th>\n",
       "      <th>details</th>\n",
       "      <th>timestamp</th>\n",
       "      <th>username</th>\n",
       "      <th>varient</th>\n",
       "    </tr>\n",
       "  </thead>\n",
       "  <tbody>\n",
       "    <tr>\n",
       "      <th>3</th>\n",
       "      <td>6868331278b9f6fa6049f95e</td>\n",
       "      <td>{'userId': 8, 'username': 'vikram'}</td>\n",
       "      <td>request recommendation</td>\n",
       "      <td>{'type': 'Content-Based Recommendation'}</td>\n",
       "      <td>2025-06-27 22:24:12.267</td>\n",
       "      <td>vikram</td>\n",
       "      <td>B</td>\n",
       "    </tr>\n",
       "    <tr>\n",
       "      <th>19</th>\n",
       "      <td>6868331278b9f6fa6049f972</td>\n",
       "      <td>{'userId': 7, 'username': 'rahul'}</td>\n",
       "      <td>request recommendation</td>\n",
       "      <td>{'type': 'Content-Based Recommendation'}</td>\n",
       "      <td>2025-06-30 10:44:43.443</td>\n",
       "      <td>rahul</td>\n",
       "      <td>B</td>\n",
       "    </tr>\n",
       "    <tr>\n",
       "      <th>24</th>\n",
       "      <td>6868331278b9f6fa6049f977</td>\n",
       "      <td>{'userId': 9, 'username': 'aarav'}</td>\n",
       "      <td>request recommendation</td>\n",
       "      <td>{'type': 'Content-Based Recommendation'}</td>\n",
       "      <td>2025-06-28 16:30:16.548</td>\n",
       "      <td>aarav</td>\n",
       "      <td>B</td>\n",
       "    </tr>\n",
       "    <tr>\n",
       "      <th>25</th>\n",
       "      <td>6868331278b9f6fa6049f978</td>\n",
       "      <td>{'userId': 9, 'username': 'aarav'}</td>\n",
       "      <td>request recommendation</td>\n",
       "      <td>{'type': 'Content-Based Recommendation'}</td>\n",
       "      <td>2025-07-04 08:00:41.731</td>\n",
       "      <td>aarav</td>\n",
       "      <td>B</td>\n",
       "    </tr>\n",
       "    <tr>\n",
       "      <th>26</th>\n",
       "      <td>6868331278b9f6fa6049f979</td>\n",
       "      <td>{'userId': 10, 'username': 'manish'}</td>\n",
       "      <td>request recommendation</td>\n",
       "      <td>{'type': 'Content-Based Recommendation'}</td>\n",
       "      <td>2025-07-02 00:17:38.866</td>\n",
       "      <td>manish</td>\n",
       "      <td>B</td>\n",
       "    </tr>\n",
       "    <tr>\n",
       "      <th>...</th>\n",
       "      <td>...</td>\n",
       "      <td>...</td>\n",
       "      <td>...</td>\n",
       "      <td>...</td>\n",
       "      <td>...</td>\n",
       "      <td>...</td>\n",
       "      <td>...</td>\n",
       "    </tr>\n",
       "    <tr>\n",
       "      <th>370</th>\n",
       "      <td>686833e47625b794f0ac97de</td>\n",
       "      <td>{'userId': 6, 'username': 'karan'}</td>\n",
       "      <td>request recommendation</td>\n",
       "      <td>{'type': 'Collaborative Recommendation'}</td>\n",
       "      <td>2025-07-02 01:41:49.803</td>\n",
       "      <td>karan</td>\n",
       "      <td>A</td>\n",
       "    </tr>\n",
       "    <tr>\n",
       "      <th>372</th>\n",
       "      <td>686833e47625b794f0ac97e0</td>\n",
       "      <td>{'userId': 7, 'username': 'rahul'}</td>\n",
       "      <td>request recommendation</td>\n",
       "      <td>{'type': 'Content-Based Recommendation'}</td>\n",
       "      <td>2025-07-01 04:56:03.793</td>\n",
       "      <td>rahul</td>\n",
       "      <td>B</td>\n",
       "    </tr>\n",
       "    <tr>\n",
       "      <th>382</th>\n",
       "      <td>686833e47625b794f0ac97ea</td>\n",
       "      <td>{'userId': 6, 'username': 'karan'}</td>\n",
       "      <td>request recommendation</td>\n",
       "      <td>{'type': 'Collaborative Recommendation'}</td>\n",
       "      <td>2025-06-29 18:04:46.587</td>\n",
       "      <td>karan</td>\n",
       "      <td>A</td>\n",
       "    </tr>\n",
       "    <tr>\n",
       "      <th>390</th>\n",
       "      <td>686833e47625b794f0ac97f2</td>\n",
       "      <td>{'userId': 3, 'username': 'rohan'}</td>\n",
       "      <td>request recommendation</td>\n",
       "      <td>{'type': 'Collaborative Recommendation'}</td>\n",
       "      <td>2025-06-30 08:48:09.504</td>\n",
       "      <td>rohan</td>\n",
       "      <td>A</td>\n",
       "    </tr>\n",
       "    <tr>\n",
       "      <th>392</th>\n",
       "      <td>686833e47625b794f0ac97f4</td>\n",
       "      <td>{'userId': 1, 'username': 'mohit'}</td>\n",
       "      <td>request recommendation</td>\n",
       "      <td>{'type': 'Collaborative Recommendation'}</td>\n",
       "      <td>2025-07-03 00:02:38.796</td>\n",
       "      <td>mohit</td>\n",
       "      <td>A</td>\n",
       "    </tr>\n",
       "  </tbody>\n",
       "</table>\n",
       "<p>101 rows × 7 columns</p>\n",
       "</div>"
      ],
      "text/plain": [
       "                          _id                                  user  \\\n",
       "3    6868331278b9f6fa6049f95e   {'userId': 8, 'username': 'vikram'}   \n",
       "19   6868331278b9f6fa6049f972    {'userId': 7, 'username': 'rahul'}   \n",
       "24   6868331278b9f6fa6049f977    {'userId': 9, 'username': 'aarav'}   \n",
       "25   6868331278b9f6fa6049f978    {'userId': 9, 'username': 'aarav'}   \n",
       "26   6868331278b9f6fa6049f979  {'userId': 10, 'username': 'manish'}   \n",
       "..                        ...                                   ...   \n",
       "370  686833e47625b794f0ac97de    {'userId': 6, 'username': 'karan'}   \n",
       "372  686833e47625b794f0ac97e0    {'userId': 7, 'username': 'rahul'}   \n",
       "382  686833e47625b794f0ac97ea    {'userId': 6, 'username': 'karan'}   \n",
       "390  686833e47625b794f0ac97f2    {'userId': 3, 'username': 'rohan'}   \n",
       "392  686833e47625b794f0ac97f4    {'userId': 1, 'username': 'mohit'}   \n",
       "\n",
       "                     action                                   details  \\\n",
       "3    request recommendation  {'type': 'Content-Based Recommendation'}   \n",
       "19   request recommendation  {'type': 'Content-Based Recommendation'}   \n",
       "24   request recommendation  {'type': 'Content-Based Recommendation'}   \n",
       "25   request recommendation  {'type': 'Content-Based Recommendation'}   \n",
       "26   request recommendation  {'type': 'Content-Based Recommendation'}   \n",
       "..                      ...                                       ...   \n",
       "370  request recommendation  {'type': 'Collaborative Recommendation'}   \n",
       "372  request recommendation  {'type': 'Content-Based Recommendation'}   \n",
       "382  request recommendation  {'type': 'Collaborative Recommendation'}   \n",
       "390  request recommendation  {'type': 'Collaborative Recommendation'}   \n",
       "392  request recommendation  {'type': 'Collaborative Recommendation'}   \n",
       "\n",
       "                  timestamp username varient  \n",
       "3   2025-06-27 22:24:12.267   vikram       B  \n",
       "19  2025-06-30 10:44:43.443    rahul       B  \n",
       "24  2025-06-28 16:30:16.548    aarav       B  \n",
       "25  2025-07-04 08:00:41.731    aarav       B  \n",
       "26  2025-07-02 00:17:38.866   manish       B  \n",
       "..                      ...      ...     ...  \n",
       "370 2025-07-02 01:41:49.803    karan       A  \n",
       "372 2025-07-01 04:56:03.793    rahul       B  \n",
       "382 2025-06-29 18:04:46.587    karan       A  \n",
       "390 2025-06-30 08:48:09.504    rohan       A  \n",
       "392 2025-07-03 00:02:38.796    mohit       A  \n",
       "\n",
       "[101 rows x 7 columns]"
      ]
     },
     "execution_count": 118,
     "metadata": {},
     "output_type": "execute_result"
    }
   ],
   "source": [
    "reqs"
   ]
  },
  {
   "cell_type": "code",
   "execution_count": 119,
   "id": "8ba1afc5-d744-4b24-a62f-b6e8b6a81e60",
   "metadata": {},
   "outputs": [
    {
     "name": "stderr",
     "output_type": "stream",
     "text": [
      "C:\\Users\\write\\AppData\\Local\\Temp\\ipykernel_12212\\1914979867.py:1: SettingWithCopyWarning: \n",
      "A value is trying to be set on a copy of a slice from a DataFrame.\n",
      "Try using .loc[row_indexer,col_indexer] = value instead\n",
      "\n",
      "See the caveats in the documentation: https://pandas.pydata.org/pandas-docs/stable/user_guide/indexing.html#returning-a-view-versus-a-copy\n",
      "  reqs[\"rated_flag\"] = reqs.apply(did_rate, axis=1)\n"
     ]
    }
   ],
   "source": [
    "reqs[\"rated_flag\"] = reqs.apply(did_rate, axis=1)"
   ]
  },
  {
   "cell_type": "code",
   "execution_count": 120,
   "id": "d0ac7581-eb48-42d8-a446-1d87724cb8ee",
   "metadata": {},
   "outputs": [
    {
     "data": {
      "text/html": [
       "<div>\n",
       "<style scoped>\n",
       "    .dataframe tbody tr th:only-of-type {\n",
       "        vertical-align: middle;\n",
       "    }\n",
       "\n",
       "    .dataframe tbody tr th {\n",
       "        vertical-align: top;\n",
       "    }\n",
       "\n",
       "    .dataframe thead th {\n",
       "        text-align: right;\n",
       "    }\n",
       "</style>\n",
       "<table border=\"1\" class=\"dataframe\">\n",
       "  <thead>\n",
       "    <tr style=\"text-align: right;\">\n",
       "      <th></th>\n",
       "      <th>_id</th>\n",
       "      <th>user</th>\n",
       "      <th>action</th>\n",
       "      <th>details</th>\n",
       "      <th>timestamp</th>\n",
       "      <th>username</th>\n",
       "      <th>varient</th>\n",
       "      <th>rated_flag</th>\n",
       "    </tr>\n",
       "  </thead>\n",
       "  <tbody>\n",
       "    <tr>\n",
       "      <th>3</th>\n",
       "      <td>6868331278b9f6fa6049f95e</td>\n",
       "      <td>{'userId': 8, 'username': 'vikram'}</td>\n",
       "      <td>request recommendation</td>\n",
       "      <td>{'type': 'Content-Based Recommendation'}</td>\n",
       "      <td>2025-06-27 22:24:12.267</td>\n",
       "      <td>vikram</td>\n",
       "      <td>B</td>\n",
       "      <td>1</td>\n",
       "    </tr>\n",
       "    <tr>\n",
       "      <th>19</th>\n",
       "      <td>6868331278b9f6fa6049f972</td>\n",
       "      <td>{'userId': 7, 'username': 'rahul'}</td>\n",
       "      <td>request recommendation</td>\n",
       "      <td>{'type': 'Content-Based Recommendation'}</td>\n",
       "      <td>2025-06-30 10:44:43.443</td>\n",
       "      <td>rahul</td>\n",
       "      <td>B</td>\n",
       "      <td>1</td>\n",
       "    </tr>\n",
       "    <tr>\n",
       "      <th>24</th>\n",
       "      <td>6868331278b9f6fa6049f977</td>\n",
       "      <td>{'userId': 9, 'username': 'aarav'}</td>\n",
       "      <td>request recommendation</td>\n",
       "      <td>{'type': 'Content-Based Recommendation'}</td>\n",
       "      <td>2025-06-28 16:30:16.548</td>\n",
       "      <td>aarav</td>\n",
       "      <td>B</td>\n",
       "      <td>1</td>\n",
       "    </tr>\n",
       "    <tr>\n",
       "      <th>25</th>\n",
       "      <td>6868331278b9f6fa6049f978</td>\n",
       "      <td>{'userId': 9, 'username': 'aarav'}</td>\n",
       "      <td>request recommendation</td>\n",
       "      <td>{'type': 'Content-Based Recommendation'}</td>\n",
       "      <td>2025-07-04 08:00:41.731</td>\n",
       "      <td>aarav</td>\n",
       "      <td>B</td>\n",
       "      <td>0</td>\n",
       "    </tr>\n",
       "    <tr>\n",
       "      <th>26</th>\n",
       "      <td>6868331278b9f6fa6049f979</td>\n",
       "      <td>{'userId': 10, 'username': 'manish'}</td>\n",
       "      <td>request recommendation</td>\n",
       "      <td>{'type': 'Content-Based Recommendation'}</td>\n",
       "      <td>2025-07-02 00:17:38.866</td>\n",
       "      <td>manish</td>\n",
       "      <td>B</td>\n",
       "      <td>1</td>\n",
       "    </tr>\n",
       "    <tr>\n",
       "      <th>...</th>\n",
       "      <td>...</td>\n",
       "      <td>...</td>\n",
       "      <td>...</td>\n",
       "      <td>...</td>\n",
       "      <td>...</td>\n",
       "      <td>...</td>\n",
       "      <td>...</td>\n",
       "      <td>...</td>\n",
       "    </tr>\n",
       "    <tr>\n",
       "      <th>370</th>\n",
       "      <td>686833e47625b794f0ac97de</td>\n",
       "      <td>{'userId': 6, 'username': 'karan'}</td>\n",
       "      <td>request recommendation</td>\n",
       "      <td>{'type': 'Collaborative Recommendation'}</td>\n",
       "      <td>2025-07-02 01:41:49.803</td>\n",
       "      <td>karan</td>\n",
       "      <td>A</td>\n",
       "      <td>0</td>\n",
       "    </tr>\n",
       "    <tr>\n",
       "      <th>372</th>\n",
       "      <td>686833e47625b794f0ac97e0</td>\n",
       "      <td>{'userId': 7, 'username': 'rahul'}</td>\n",
       "      <td>request recommendation</td>\n",
       "      <td>{'type': 'Content-Based Recommendation'}</td>\n",
       "      <td>2025-07-01 04:56:03.793</td>\n",
       "      <td>rahul</td>\n",
       "      <td>B</td>\n",
       "      <td>1</td>\n",
       "    </tr>\n",
       "    <tr>\n",
       "      <th>382</th>\n",
       "      <td>686833e47625b794f0ac97ea</td>\n",
       "      <td>{'userId': 6, 'username': 'karan'}</td>\n",
       "      <td>request recommendation</td>\n",
       "      <td>{'type': 'Collaborative Recommendation'}</td>\n",
       "      <td>2025-06-29 18:04:46.587</td>\n",
       "      <td>karan</td>\n",
       "      <td>A</td>\n",
       "      <td>1</td>\n",
       "    </tr>\n",
       "    <tr>\n",
       "      <th>390</th>\n",
       "      <td>686833e47625b794f0ac97f2</td>\n",
       "      <td>{'userId': 3, 'username': 'rohan'}</td>\n",
       "      <td>request recommendation</td>\n",
       "      <td>{'type': 'Collaborative Recommendation'}</td>\n",
       "      <td>2025-06-30 08:48:09.504</td>\n",
       "      <td>rohan</td>\n",
       "      <td>A</td>\n",
       "      <td>1</td>\n",
       "    </tr>\n",
       "    <tr>\n",
       "      <th>392</th>\n",
       "      <td>686833e47625b794f0ac97f4</td>\n",
       "      <td>{'userId': 1, 'username': 'mohit'}</td>\n",
       "      <td>request recommendation</td>\n",
       "      <td>{'type': 'Collaborative Recommendation'}</td>\n",
       "      <td>2025-07-03 00:02:38.796</td>\n",
       "      <td>mohit</td>\n",
       "      <td>A</td>\n",
       "      <td>0</td>\n",
       "    </tr>\n",
       "  </tbody>\n",
       "</table>\n",
       "<p>101 rows × 8 columns</p>\n",
       "</div>"
      ],
      "text/plain": [
       "                          _id                                  user  \\\n",
       "3    6868331278b9f6fa6049f95e   {'userId': 8, 'username': 'vikram'}   \n",
       "19   6868331278b9f6fa6049f972    {'userId': 7, 'username': 'rahul'}   \n",
       "24   6868331278b9f6fa6049f977    {'userId': 9, 'username': 'aarav'}   \n",
       "25   6868331278b9f6fa6049f978    {'userId': 9, 'username': 'aarav'}   \n",
       "26   6868331278b9f6fa6049f979  {'userId': 10, 'username': 'manish'}   \n",
       "..                        ...                                   ...   \n",
       "370  686833e47625b794f0ac97de    {'userId': 6, 'username': 'karan'}   \n",
       "372  686833e47625b794f0ac97e0    {'userId': 7, 'username': 'rahul'}   \n",
       "382  686833e47625b794f0ac97ea    {'userId': 6, 'username': 'karan'}   \n",
       "390  686833e47625b794f0ac97f2    {'userId': 3, 'username': 'rohan'}   \n",
       "392  686833e47625b794f0ac97f4    {'userId': 1, 'username': 'mohit'}   \n",
       "\n",
       "                     action                                   details  \\\n",
       "3    request recommendation  {'type': 'Content-Based Recommendation'}   \n",
       "19   request recommendation  {'type': 'Content-Based Recommendation'}   \n",
       "24   request recommendation  {'type': 'Content-Based Recommendation'}   \n",
       "25   request recommendation  {'type': 'Content-Based Recommendation'}   \n",
       "26   request recommendation  {'type': 'Content-Based Recommendation'}   \n",
       "..                      ...                                       ...   \n",
       "370  request recommendation  {'type': 'Collaborative Recommendation'}   \n",
       "372  request recommendation  {'type': 'Content-Based Recommendation'}   \n",
       "382  request recommendation  {'type': 'Collaborative Recommendation'}   \n",
       "390  request recommendation  {'type': 'Collaborative Recommendation'}   \n",
       "392  request recommendation  {'type': 'Collaborative Recommendation'}   \n",
       "\n",
       "                  timestamp username varient  rated_flag  \n",
       "3   2025-06-27 22:24:12.267   vikram       B           1  \n",
       "19  2025-06-30 10:44:43.443    rahul       B           1  \n",
       "24  2025-06-28 16:30:16.548    aarav       B           1  \n",
       "25  2025-07-04 08:00:41.731    aarav       B           0  \n",
       "26  2025-07-02 00:17:38.866   manish       B           1  \n",
       "..                      ...      ...     ...         ...  \n",
       "370 2025-07-02 01:41:49.803    karan       A           0  \n",
       "372 2025-07-01 04:56:03.793    rahul       B           1  \n",
       "382 2025-06-29 18:04:46.587    karan       A           1  \n",
       "390 2025-06-30 08:48:09.504    rohan       A           1  \n",
       "392 2025-07-03 00:02:38.796    mohit       A           0  \n",
       "\n",
       "[101 rows x 8 columns]"
      ]
     },
     "execution_count": 120,
     "metadata": {},
     "output_type": "execute_result"
    }
   ],
   "source": [
    "reqs"
   ]
  },
  {
   "cell_type": "code",
   "execution_count": 121,
   "id": "d1c0a5a1-3779-4276-9e65-17554e993de4",
   "metadata": {},
   "outputs": [
    {
     "data": {
      "text/plain": [
       "varient\n",
       "A    44\n",
       "B    57\n",
       "Name: rated_flag, dtype: int64"
      ]
     },
     "execution_count": 121,
     "metadata": {},
     "output_type": "execute_result"
    }
   ],
   "source": [
    "reqs.groupby('varient')['rated_flag'].size()"
   ]
  },
  {
   "cell_type": "code",
   "execution_count": 122,
   "id": "b40b63fa-19bd-483d-94f1-0dfac7a16989",
   "metadata": {},
   "outputs": [],
   "source": [
    "rating_conv = reqs.groupby('varient')['rated_flag'].mean()"
   ]
  },
  {
   "cell_type": "code",
   "execution_count": 123,
   "id": "62827b02-c9ef-4258-809c-e4f3c7fbf84f",
   "metadata": {},
   "outputs": [
    {
     "name": "stdout",
     "output_type": "stream",
     "text": [
      "Rating Success-rate:\n",
      "varient\n",
      "A    0.659091\n",
      "B    0.859649\n",
      "Name: rated_flag, dtype: float64 \n",
      "\n"
     ]
    }
   ],
   "source": [
    "print(\"Rating Success-rate:\")\n",
    "print(rating_conv, \"\\n\")"
   ]
  },
  {
   "cell_type": "code",
   "execution_count": 124,
   "id": "a7ed11d6-43f5-40a6-98d5-11ca18b0e132",
   "metadata": {},
   "outputs": [],
   "source": [
    "from matplotlib import pyplot as plt"
   ]
  },
  {
   "cell_type": "code",
   "execution_count": 125,
   "id": "d988c706-25bf-4960-8185-92a788c5dd99",
   "metadata": {},
   "outputs": [],
   "source": [
    "algo = ['Collaborative Recommendation', 'Content Based']"
   ]
  },
  {
   "cell_type": "code",
   "execution_count": 126,
   "id": "5e214db0-6064-438e-b8f6-c098adc27d84",
   "metadata": {},
   "outputs": [
    {
     "name": "stderr",
     "output_type": "stream",
     "text": [
      "C:\\Users\\write\\AppData\\Local\\Temp\\ipykernel_12212\\2705771983.py:1: FutureWarning: Series.__getitem__ treating keys as positions is deprecated. In a future version, integer keys will always be treated as labels (consistent with DataFrame behavior). To access a value by position, use `ser.iloc[pos]`\n",
      "  success_rate = [rating_conv[0], rating_conv[1]]\n"
     ]
    }
   ],
   "source": [
    "success_rate = [rating_conv[0], rating_conv[1]]"
   ]
  },
  {
   "cell_type": "code",
   "execution_count": 127,
   "id": "8501e637-2263-477a-941c-edd27b59d969",
   "metadata": {},
   "outputs": [
    {
     "data": {
      "text/plain": [
       "[np.float64(0.6590909090909091), np.float64(0.8596491228070176)]"
      ]
     },
     "execution_count": 127,
     "metadata": {},
     "output_type": "execute_result"
    }
   ],
   "source": [
    "success_rate"
   ]
  },
  {
   "cell_type": "code",
   "execution_count": 128,
   "id": "0e34c040-7d57-4456-bc1f-3c84b0bcfe37",
   "metadata": {},
   "outputs": [
    {
     "data": {
      "image/png": "[encoded data removed]",
      "text/plain": [
       "<Figure size 640x480 with 1 Axes>"
      ]
     },
     "metadata": {},
     "output_type": "display_data"
    }
   ],
   "source": [
    "plt.bar(algo, success_rate, color=['r','b'], width=0.4)\n",
    "plt.xlabel(\"Algorithm of Recommendation\")\n",
    "plt.ylabel(\"Success Rate\")\n",
    "plt.show()"
   ]
  },
  {
   "cell_type": "code",
   "execution_count": null,
   "id": "cd0f1fa0-c100-402b-937a-26b3f50f1abc",
   "metadata": {},
   "outputs": [],
   "source": []
  },
  {
   "cell_type": "markdown",
   "id": "b86a66bc-90bb-40d6-a7a2-b8d26785cf9d",
   "metadata": {},
   "source": [
    "# Conclusion"
   ]
  },
  {
   "cell_type": "markdown",
   "id": "d53edc2a-6268-4095-a976-7f55c350a6e2",
   "metadata": {},
   "source": [
    "- As per the both plotting, We see that Content Based recommendation is better. In the first plot, it has more total clicks by users than Collaborative one.\n"
   ]
  },
  {
   "cell_type": "markdown",
   "id": "d8007865-efa4-4ec9-b911-1621aeaa9491",
   "metadata": {},
   "source": [
    "- In the second graph, also Content Based is showing higher success rate. It means more users gave ratings after using this method."
   ]
  },
  {
   "cell_type": "markdown",
   "id": "72c0f422-dfd2-44de-9a75-641bc75086cc",
   "metadata": {},
   "source": [
    "- So, overall Content Based algorithm is looking more effective in both ways-\n",
    "- - it gets more clicks and more ratings.\n",
    "  - So, it can be a better choice for recommendation system.\n"
   ]
  },
  {
   "cell_type": "code",
   "execution_count": null,
   "id": "c011a44d-8d20-491e-8d69-50caff010e51",
   "metadata": {},
   "outputs": [],
   "source": []
  },
  {
   "cell_type": "code",
   "execution_count": null,
   "id": "1a878f6e-72be-41d8-be78-43b36677f7ac",
   "metadata": {},
   "outputs": [],
   "source": []
  }
 ],
 "metadata": {
  "kernelspec": {
   "display_name": ".v_env",
   "language": "python",
   "name": ".v_env"
  },
  "language_info": {
   "codemirror_mode": {
    "name": "ipython",
    "version": 3
   },
   "file_extension": ".py",
   "mimetype": "text/x-python",
   "name": "python",
   "nbconvert_exporter": "python",
   "pygments_lexer": "ipython3",
   "version": "3.10.6"
  }
 },
 "nbformat": 4,
 "nbformat_minor": 5
}
