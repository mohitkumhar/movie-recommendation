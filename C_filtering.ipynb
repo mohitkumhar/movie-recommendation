{
 "cells": [
  {
   "cell_type": "markdown",
   "id": "c541c2f4-5bd0-4087-a996-0acc2a61d4f5",
   "metadata": {},
   "source": [
    "# Collaborative-Filtering Based Recommandation"
   ]
  },
  {
   "cell_type": "code",
   "execution_count": 1,
   "id": "b9c3c71a-4c78-4639-a4ac-ad1e3c861af4",
   "metadata": {},
   "outputs": [],
   "source": [
    "import pandas as pd\n",
    "from surprise import Dataset, Reader, SVD\n",
    "from surprise.model_selection import train_test_split"
   ]
  },
  {
   "cell_type": "code",
   "execution_count": 2,
   "id": "d4854acd-5f72-4e61-bafa-7e831dab350e",
   "metadata": {},
   "outputs": [],
   "source": [
    "movies = pd.read_csv(\"dataset/movie.csv\")"
   ]
  },
  {
   "cell_type": "code",
   "execution_count": 3,
   "id": "14c13d22-e39f-42fe-81a6-f39c84d58c0b",
   "metadata": {},
   "outputs": [
    {
     "data": {
      "text/html": [
       "<div>\n",
       "<style scoped>\n",
       "    .dataframe tbody tr th:only-of-type {\n",
       "        vertical-align: middle;\n",
       "    }\n",
       "\n",
       "    .dataframe tbody tr th {\n",
       "        vertical-align: top;\n",
       "    }\n",
       "\n",
       "    .dataframe thead th {\n",
       "        text-align: right;\n",
       "    }\n",
       "</style>\n",
       "<table border=\"1\" class=\"dataframe\">\n",
       "  <thead>\n",
       "    <tr style=\"text-align: right;\">\n",
       "      <th></th>\n",
       "      <th>movieId</th>\n",
       "      <th>title</th>\n",
       "      <th>genres</th>\n",
       "    </tr>\n",
       "  </thead>\n",
       "  <tbody>\n",
       "    <tr>\n",
       "      <th>0</th>\n",
       "      <td>1</td>\n",
       "      <td>Toy Story (1995)</td>\n",
       "      <td>Adventure|Animation|Children|Comedy|Fantasy</td>\n",
       "    </tr>\n",
       "    <tr>\n",
       "      <th>1</th>\n",
       "      <td>2</td>\n",
       "      <td>Jumanji (1995)</td>\n",
       "      <td>Adventure|Children|Fantasy</td>\n",
       "    </tr>\n",
       "    <tr>\n",
       "      <th>2</th>\n",
       "      <td>3</td>\n",
       "      <td>Grumpier Old Men (1995)</td>\n",
       "      <td>Comedy|Romance</td>\n",
       "    </tr>\n",
       "    <tr>\n",
       "      <th>3</th>\n",
       "      <td>4</td>\n",
       "      <td>Waiting to Exhale (1995)</td>\n",
       "      <td>Comedy|Drama|Romance</td>\n",
       "    </tr>\n",
       "    <tr>\n",
       "      <th>4</th>\n",
       "      <td>5</td>\n",
       "      <td>Father of the Bride Part II (1995)</td>\n",
       "      <td>Comedy</td>\n",
       "    </tr>\n",
       "  </tbody>\n",
       "</table>\n",
       "</div>"
      ],
      "text/plain": [
       "   movieId                               title  \\\n",
       "0        1                    Toy Story (1995)   \n",
       "1        2                      Jumanji (1995)   \n",
       "2        3             Grumpier Old Men (1995)   \n",
       "3        4            Waiting to Exhale (1995)   \n",
       "4        5  Father of the Bride Part II (1995)   \n",
       "\n",
       "                                        genres  \n",
       "0  Adventure|Animation|Children|Comedy|Fantasy  \n",
       "1                   Adventure|Children|Fantasy  \n",
       "2                               Comedy|Romance  \n",
       "3                         Comedy|Drama|Romance  \n",
       "4                                       Comedy  "
      ]
     },
     "execution_count": 3,
     "metadata": {},
     "output_type": "execute_result"
    }
   ],
   "source": [
    "movies.head()"
   ]
  },
  {
   "cell_type": "code",
   "execution_count": 4,
   "id": "12402a16-6c82-45bb-8118-85877f8a82fe",
   "metadata": {},
   "outputs": [],
   "source": [
    "rating = pd.read_csv('dataset/rating.csv')"
   ]
  },
  {
   "cell_type": "code",
   "execution_count": 5,
   "id": "0875a315-f064-46ca-a1f7-79398e80fc6b",
   "metadata": {},
   "outputs": [
    {
     "data": {
      "text/html": [
       "<div>\n",
       "<style scoped>\n",
       "    .dataframe tbody tr th:only-of-type {\n",
       "        vertical-align: middle;\n",
       "    }\n",
       "\n",
       "    .dataframe tbody tr th {\n",
       "        vertical-align: top;\n",
       "    }\n",
       "\n",
       "    .dataframe thead th {\n",
       "        text-align: right;\n",
       "    }\n",
       "</style>\n",
       "<table border=\"1\" class=\"dataframe\">\n",
       "  <thead>\n",
       "    <tr style=\"text-align: right;\">\n",
       "      <th></th>\n",
       "      <th>userId</th>\n",
       "      <th>movieId</th>\n",
       "      <th>rating</th>\n",
       "      <th>timestamp</th>\n",
       "    </tr>\n",
       "  </thead>\n",
       "  <tbody>\n",
       "    <tr>\n",
       "      <th>0</th>\n",
       "      <td>1</td>\n",
       "      <td>2</td>\n",
       "      <td>3.5</td>\n",
       "      <td>2005-04-02 23:53:47</td>\n",
       "    </tr>\n",
       "    <tr>\n",
       "      <th>1</th>\n",
       "      <td>1</td>\n",
       "      <td>29</td>\n",
       "      <td>3.5</td>\n",
       "      <td>2005-04-02 23:31:16</td>\n",
       "    </tr>\n",
       "    <tr>\n",
       "      <th>2</th>\n",
       "      <td>1</td>\n",
       "      <td>32</td>\n",
       "      <td>3.5</td>\n",
       "      <td>2005-04-02 23:33:39</td>\n",
       "    </tr>\n",
       "    <tr>\n",
       "      <th>3</th>\n",
       "      <td>1</td>\n",
       "      <td>47</td>\n",
       "      <td>3.5</td>\n",
       "      <td>2005-04-02 23:32:07</td>\n",
       "    </tr>\n",
       "    <tr>\n",
       "      <th>4</th>\n",
       "      <td>1</td>\n",
       "      <td>50</td>\n",
       "      <td>3.5</td>\n",
       "      <td>2005-04-02 23:29:40</td>\n",
       "    </tr>\n",
       "  </tbody>\n",
       "</table>\n",
       "</div>"
      ],
      "text/plain": [
       "   userId  movieId  rating            timestamp\n",
       "0       1        2     3.5  2005-04-02 23:53:47\n",
       "1       1       29     3.5  2005-04-02 23:31:16\n",
       "2       1       32     3.5  2005-04-02 23:33:39\n",
       "3       1       47     3.5  2005-04-02 23:32:07\n",
       "4       1       50     3.5  2005-04-02 23:29:40"
      ]
     },
     "execution_count": 5,
     "metadata": {},
     "output_type": "execute_result"
    }
   ],
   "source": [
    "rating.head()"
   ]
  },
  {
   "cell_type": "code",
   "execution_count": 6,
   "id": "ca761ee9-d812-446a-a422-0be96f446c68",
   "metadata": {},
   "outputs": [
    {
     "data": {
      "text/plain": [
       "0"
      ]
     },
     "execution_count": 6,
     "metadata": {},
     "output_type": "execute_result"
    }
   ],
   "source": [
    "rating.duplicated().sum()"
   ]
  },
  {
   "cell_type": "code",
   "execution_count": 7,
   "id": "4aac43f3-c994-4a87-b6dd-2b23777b700d",
   "metadata": {},
   "outputs": [
    {
     "data": {
      "text/plain": [
       "19973519"
      ]
     },
     "execution_count": 7,
     "metadata": {},
     "output_type": "execute_result"
    }
   ],
   "source": [
    "rating['movieId'].duplicated().sum()"
   ]
  },
  {
   "cell_type": "code",
   "execution_count": 8,
   "id": "70c8f068-a6a6-4e78-9d57-335cceeaac76",
   "metadata": {},
   "outputs": [
    {
     "data": {
      "text/plain": [
       "<surprise.reader.Reader at 0x23a73bc7a00>"
      ]
     },
     "execution_count": 8,
     "metadata": {},
     "output_type": "execute_result"
    }
   ],
   "source": [
    "reader = Reader(rating_scale=(rating.rating.min(), rating.rating.max()))\n",
    "reader"
   ]
  },
  {
   "cell_type": "code",
   "execution_count": 9,
   "id": "3bb0c3e6-ab1b-4251-be42-dd5f19847b6a",
   "metadata": {},
   "outputs": [],
   "source": [
    "data = Dataset.load_from_df(rating[['userId', 'movieId', 'rating']], reader)"
   ]
  },
  {
   "cell_type": "code",
   "execution_count": 10,
   "id": "df5df78e-2b0a-4a99-8cf2-3616134e288a",
   "metadata": {},
   "outputs": [
    {
     "data": {
      "text/plain": [
       "<surprise.dataset.DatasetAutoFolds at 0x23a73bc6350>"
      ]
     },
     "execution_count": 10,
     "metadata": {},
     "output_type": "execute_result"
    }
   ],
   "source": [
    "data"
   ]
  },
  {
   "cell_type": "markdown",
   "id": "0af9cfed-c6ac-420c-b9b7-25bf57c9040c",
   "metadata": {},
   "source": [
    "##### using SVD Algorithm"
   ]
  },
  {
   "cell_type": "code",
   "execution_count": 11,
   "id": "deb7e920-063b-4bff-8152-b2d15b310446",
   "metadata": {},
   "outputs": [],
   "source": [
    "trainset, _ = train_test_split(data, test_size=0.1, random_state=42)"
   ]
  },
  {
   "cell_type": "code",
   "execution_count": 12,
   "id": "4cfe5790-5173-4cc4-97f7-b08a0bb05040",
   "metadata": {},
   "outputs": [
    {
     "data": {
      "text/plain": [
       "<surprise.trainset.Trainset at 0x23a5c6ac340>"
      ]
     },
     "execution_count": 12,
     "metadata": {},
     "output_type": "execute_result"
    }
   ],
   "source": [
    "trainset"
   ]
  },
  {
   "cell_type": "code",
   "execution_count": 13,
   "id": "5dc0ba9a-d3c3-4237-9383-850cc1969150",
   "metadata": {},
   "outputs": [],
   "source": [
    "model = SVD(\n",
    "    verbose=True,\n",
    "    n_factors=100,\n",
    "    n_epochs=20,\n",
    ")"
   ]
  },
  {
   "cell_type": "code",
   "execution_count": 14,
   "id": "4e18ab75-5663-4db0-ae05-9fed0b2ccf88",
   "metadata": {},
   "outputs": [
    {
     "name": "stdout",
     "output_type": "stream",
     "text": [
      "Processing epoch 0\n",
      "Processing epoch 1\n",
      "Processing epoch 2\n",
      "Processing epoch 3\n",
      "Processing epoch 4\n",
      "Processing epoch 5\n",
      "Processing epoch 6\n",
      "Processing epoch 7\n",
      "Processing epoch 8\n",
      "Processing epoch 9\n",
      "Processing epoch 10\n",
      "Processing epoch 11\n",
      "Processing epoch 12\n",
      "Processing epoch 13\n",
      "Processing epoch 14\n",
      "Processing epoch 15\n",
      "Processing epoch 16\n",
      "Processing epoch 17\n",
      "Processing epoch 18\n",
      "Processing epoch 19\n"
     ]
    },
    {
     "data": {
      "text/plain": [
       "<surprise.prediction_algorithms.matrix_factorization.SVD at 0x23a94db85b0>"
      ]
     },
     "execution_count": 14,
     "metadata": {},
     "output_type": "execute_result"
    }
   ],
   "source": [
    "model.fit(trainset)"
   ]
  },
  {
   "cell_type": "markdown",
   "id": "73c2dae3-a5ce-4dc2-9379-200ab452ba34",
   "metadata": {},
   "source": [
    "#### Predict Top-n movies"
   ]
  },
  {
   "cell_type": "code",
   "execution_count": 15,
   "id": "0826bd4a-af01-4e04-bfbe-0311ef20556c",
   "metadata": {},
   "outputs": [
    {
     "data": {
      "text/plain": [
       "1572269395"
      ]
     },
     "execution_count": 15,
     "metadata": {},
     "output_type": "execute_result"
    }
   ],
   "source": [
    "rating['movieId'].unique().sum()"
   ]
  },
  {
   "cell_type": "code",
   "execution_count": 16,
   "id": "4bc6bdf8-96a7-443e-ae3a-bbd56fb9d0e7",
   "metadata": {},
   "outputs": [],
   "source": [
    "def C_recommand(user_id, top_n=10):\n",
    "    all_movies_ids = rating['movieId'].unique()\n",
    "    # print(len(all_movies_ids))\n",
    "    # print(all_movies_ids)\n",
    "    # print()\n",
    "    \n",
    "    rated_movies = rating[rating['userId'] == user_id]['movieId'].tolist()\n",
    "    # print(len(rated_movies))\n",
    "    # print(rated_movies)\n",
    "\n",
    "    unseen_movies = [movies_id for movies_id in all_movies_ids if movies_id not in rated_movies]\n",
    "    # print(len(unseen_movies))\n",
    "    # print(unseen_movies)\n",
    "\n",
    "    # predict rating for unseen movies\n",
    "    prediction = []\n",
    "    for movies_id in unseen_movies:\n",
    "        pred = model.predict(user_id, movies_id)\n",
    "        # print(pred)\n",
    "        # print()\n",
    "        prediction.append((movies_id, pred.est))\n",
    "\n",
    "    prediction.sort(key=lambda x: x[1], reverse=True)\n",
    "    # print(prediction)\n",
    "    \n",
    "    top_preds = prediction[:top_n]\n",
    "\n",
    "    temp_df = pd.DataFrame(top_preds, columns=['movieId', 'estimated_rating'])\n",
    "\n",
    "\n",
    "    return movies[movies['movieId'].isin(temp_df['movieId'])]['title'].tolist()\n",
    "    "
   ]
  },
  {
   "cell_type": "code",
   "execution_count": null,
   "id": "ab513806-33f4-41f6-b028-55c5a59349b3",
   "metadata": {
    "scrolled": true
   },
   "outputs": [],
   "source": [
    "C_recommand(1)"
   ]
  },
  {
   "cell_type": "code",
   "execution_count": 18,
   "id": "f1de58ca-0891-4bcc-aef2-dc034e98c921",
   "metadata": {
    "scrolled": true
   },
   "outputs": [
    {
     "name": "stderr",
     "output_type": "stream",
     "text": [
      "C:\\Users\\write\\AppData\\Local\\Temp\\ipykernel_19700\\2247356436.py:1: UserWarning: Boolean Series key will be reindexed to match DataFrame index.\n",
      "  movies[rating['userId'] == 1]['title'].tolist()\n"
     ]
    },
    {
     "data": {
      "text/plain": [
       "['Toy Story (1995)',\n",
       " 'Jumanji (1995)',\n",
       " 'Grumpier Old Men (1995)',\n",
       " 'Waiting to Exhale (1995)',\n",
       " 'Father of the Bride Part II (1995)',\n",
       " 'Heat (1995)',\n",
       " 'Sabrina (1995)',\n",
       " 'Tom and Huck (1995)',\n",
       " 'Sudden Death (1995)',\n",
       " 'GoldenEye (1995)',\n",
       " 'American President, The (1995)',\n",
       " 'Dracula: Dead and Loving It (1995)',\n",
       " 'Balto (1995)',\n",
       " 'Nixon (1995)',\n",
       " 'Cutthroat Island (1995)',\n",
       " 'Casino (1995)',\n",
       " 'Sense and Sensibility (1995)',\n",
       " 'Four Rooms (1995)',\n",
       " 'Ace Ventura: When Nature Calls (1995)',\n",
       " 'Money Train (1995)',\n",
       " 'Get Shorty (1995)',\n",
       " 'Copycat (1995)',\n",
       " 'Assassins (1995)',\n",
       " 'Powder (1995)',\n",
       " 'Leaving Las Vegas (1995)',\n",
       " 'Othello (1995)',\n",
       " 'Now and Then (1995)',\n",
       " 'Persuasion (1995)',\n",
       " 'City of Lost Children, The (Cité des enfants perdus, La) (1995)',\n",
       " 'Shanghai Triad (Yao a yao yao dao waipo qiao) (1995)',\n",
       " 'Dangerous Minds (1995)',\n",
       " 'Twelve Monkeys (a.k.a. 12 Monkeys) (1995)',\n",
       " 'Wings of Courage (1995)',\n",
       " 'Babe (1995)',\n",
       " 'Carrington (1995)',\n",
       " 'Dead Man Walking (1995)',\n",
       " 'Across the Sea of Time (1995)',\n",
       " 'It Takes Two (1995)',\n",
       " 'Clueless (1995)',\n",
       " 'Cry, the Beloved Country (1995)',\n",
       " 'Richard III (1995)',\n",
       " 'Dead Presidents (1995)',\n",
       " 'Restoration (1995)',\n",
       " 'Mortal Kombat (1995)',\n",
       " 'To Die For (1995)',\n",
       " 'How to Make an American Quilt (1995)',\n",
       " 'Seven (a.k.a. Se7en) (1995)',\n",
       " 'Pocahontas (1995)',\n",
       " 'When Night Is Falling (1995)',\n",
       " 'Usual Suspects, The (1995)',\n",
       " 'Guardian Angel (1994)',\n",
       " 'Mighty Aphrodite (1995)',\n",
       " 'Lamerica (1994)',\n",
       " 'Big Green, The (1995)',\n",
       " 'Georgia (1995)',\n",
       " 'Kids of the Round Table (1995)',\n",
       " 'Home for the Holidays (1995)',\n",
       " 'Postman, The (Postino, Il) (1994)',\n",
       " 'Confessional, The (Confessionnal, Le) (1995)',\n",
       " 'Indian in the Cupboard, The (1995)',\n",
       " 'Eye for an Eye (1996)',\n",
       " \"Mr. Holland's Opus (1995)\",\n",
       " \"Don't Be a Menace to South Central While Drinking Your Juice in the Hood (1996)\",\n",
       " 'Two if by Sea (1996)',\n",
       " 'Bio-Dome (1996)',\n",
       " 'Lawnmower Man 2: Beyond Cyberspace (1996)',\n",
       " 'Two Bits (1995)',\n",
       " 'French Twist (Gazon maudit) (1995)',\n",
       " 'Friday (1995)',\n",
       " 'From Dusk Till Dawn (1996)',\n",
       " 'Fair Game (1995)',\n",
       " 'Kicking and Screaming (1995)',\n",
       " 'Misérables, Les (1995)',\n",
       " 'Bed of Roses (1996)',\n",
       " 'Big Bully (1996)',\n",
       " 'Screamers (1995)',\n",
       " 'Nico Icon (1995)',\n",
       " 'Crossing Guard, The (1995)',\n",
       " 'Juror, The (1996)',\n",
       " 'White Balloon, The (Badkonake sefid) (1995)',\n",
       " \"Things to Do in Denver When You're Dead (1995)\",\n",
       " \"Antonia's Line (Antonia) (1995)\",\n",
       " 'Once Upon a Time... When We Were Colored (1995)',\n",
       " 'Last Summer in the Hamptons (1995)',\n",
       " 'Angels and Insects (1995)',\n",
       " 'White Squall (1996)',\n",
       " 'Dunston Checks In (1996)',\n",
       " 'Black Sheep (1996)',\n",
       " 'Nick of Time (1995)',\n",
       " 'Journey of August King, The (1995)',\n",
       " 'Mary Reilly (1996)',\n",
       " 'Vampire in Brooklyn (1995)',\n",
       " 'Beautiful Girls (1996)',\n",
       " 'Broken Arrow (1996)',\n",
       " 'In the Bleak Midwinter (1995)',\n",
       " 'Hate (Haine, La) (1995)',\n",
       " 'Shopping (1994)',\n",
       " 'Heidi Fleiss: Hollywood Madam (1995)',\n",
       " 'City Hall (1996)',\n",
       " 'Bottle Rocket (1996)',\n",
       " 'Mr. Wrong (1996)',\n",
       " 'Unforgettable (1996)',\n",
       " 'Happy Gilmore (1996)',\n",
       " 'Bridges of Madison County, The (1995)',\n",
       " 'Nobody Loves Me (Keiner liebt mich) (1994)',\n",
       " 'Muppet Treasure Island (1996)',\n",
       " 'Catwalk (1996)',\n",
       " 'Headless Body in Topless Bar (1995)',\n",
       " 'Braveheart (1995)',\n",
       " 'Taxi Driver (1976)',\n",
       " 'Rumble in the Bronx (Hont faan kui) (1995)',\n",
       " 'Before and After (1996)',\n",
       " \"Margaret's Museum (1995)\",\n",
       " 'Happiness Is in the Field (Bonheur est dans le pré, Le) (1995)',\n",
       " 'Anne Frank Remembered (1995)',\n",
       " \"Young Poisoner's Handbook, The (1995)\",\n",
       " 'If Lucy Fell (1996)',\n",
       " 'Steal Big, Steal Little (1995)',\n",
       " 'Race the Sun (1996)',\n",
       " 'Boys of St. Vincent, The (1992)',\n",
       " 'Boomerang (1992)',\n",
       " 'Chungking Express (Chung Hing sam lam) (1994)',\n",
       " \"Star Maker, The (Uomo delle stelle, L') (1995)\",\n",
       " 'Flirting With Disaster (1996)',\n",
       " 'NeverEnding Story III, The (1994)',\n",
       " 'Silences of the Palace, The (Saimt el Qusur) (1994)',\n",
       " \"Jupiter's Wife (1994)\",\n",
       " 'Pie in the Sky (1996)',\n",
       " 'Angela (1995)',\n",
       " 'Frankie Starlight (1995)',\n",
       " 'Jade (1995)',\n",
       " 'Nueba Yol (1995)',\n",
       " 'Sonic Outlaws (1995)',\n",
       " 'Down Periscope (1996)',\n",
       " 'From the Journals of Jean Seberg (1995)',\n",
       " 'Man of the Year (1995)',\n",
       " 'Neon Bible, The (1995)',\n",
       " 'Target (1995)',\n",
       " 'Up Close and Personal (1996)',\n",
       " 'Birdcage, The (1996)',\n",
       " 'Shadows (Cienie) (1988)',\n",
       " 'Gospa (1995)',\n",
       " 'Brothers McMullen, The (1995)',\n",
       " 'Bad Boys (1995)',\n",
       " 'Amazing Panda Adventure, The (1995)',\n",
       " 'Basketball Diaries, The (1995)',\n",
       " 'Awfully Big Adventure, An (1995)',\n",
       " 'Amateur (1994)',\n",
       " 'Apollo 13 (1995)',\n",
       " 'Rob Roy (1995)',\n",
       " 'Addiction, The (1995)',\n",
       " 'Batman Forever (1995)',\n",
       " 'Beauty of the Day (Belle de jour) (1967)',\n",
       " 'Beyond Rangoon (1995)',\n",
       " 'Blue in the Face (1995)',\n",
       " 'Canadian Bacon (1995)',\n",
       " 'Casper (1995)',\n",
       " 'Clockers (1995)',\n",
       " 'Congo (1995)',\n",
       " 'Crimson Tide (1995)',\n",
       " 'Crumb (1994)',\n",
       " 'Desperado (1995)',\n",
       " 'Devil in a Blue Dress (1995)',\n",
       " 'Die Hard: With a Vengeance (1995)',\n",
       " 'Doom Generation, The (1995)',\n",
       " 'Feast of July (1995)',\n",
       " 'First Knight (1995)',\n",
       " 'Free Willy 2: The Adventure Home (1995)',\n",
       " 'Hackers (1995)',\n",
       " 'Jeffrey (1995)',\n",
       " 'Johnny Mnemonic (1995)',\n",
       " 'Judge Dredd (1995)',\n",
       " 'Jury Duty (1995)',\n",
       " 'Kids (1995)',\n",
       " 'Living in Oblivion (1995)']"
      ]
     },
     "execution_count": 18,
     "metadata": {},
     "output_type": "execute_result"
    }
   ],
   "source": [
    "movies[rating['userId'] == 1]['title'].tolist()"
   ]
  },
  {
   "cell_type": "code",
   "execution_count": null,
   "id": "efc0c922-97f4-4bcb-871b-32582d4dfb50",
   "metadata": {},
   "outputs": [],
   "source": []
  },
  {
   "cell_type": "code",
   "execution_count": 19,
   "id": "a832de4d-a954-4e82-8e89-defffe58d4e6",
   "metadata": {},
   "outputs": [],
   "source": [
    "import pickle"
   ]
  },
  {
   "cell_type": "code",
   "execution_count": 20,
   "id": "34aaa3c4-980d-4245-ac8b-d7846ca73d29",
   "metadata": {},
   "outputs": [],
   "source": [
    "pickle.dump(model, open('C_filtering_model.pkl', 'wb'))"
   ]
  },
  {
   "cell_type": "code",
   "execution_count": 21,
   "id": "2c1372cc-d75e-4509-ada3-8f4d2bbc6c17",
   "metadata": {},
   "outputs": [],
   "source": [
    "pickle.dump(rating, open('C_rating.pkl', 'wb'))"
   ]
  },
  {
   "cell_type": "code",
   "execution_count": 22,
   "id": "b1edd639-6651-46b4-ba03-e2466e3dfc84",
   "metadata": {},
   "outputs": [
    {
     "data": {
      "text/html": [
       "<div>\n",
       "<style scoped>\n",
       "    .dataframe tbody tr th:only-of-type {\n",
       "        vertical-align: middle;\n",
       "    }\n",
       "\n",
       "    .dataframe tbody tr th {\n",
       "        vertical-align: top;\n",
       "    }\n",
       "\n",
       "    .dataframe thead th {\n",
       "        text-align: right;\n",
       "    }\n",
       "</style>\n",
       "<table border=\"1\" class=\"dataframe\">\n",
       "  <thead>\n",
       "    <tr style=\"text-align: right;\">\n",
       "      <th></th>\n",
       "      <th>movieId</th>\n",
       "      <th>title</th>\n",
       "      <th>genres</th>\n",
       "    </tr>\n",
       "  </thead>\n",
       "  <tbody>\n",
       "    <tr>\n",
       "      <th>0</th>\n",
       "      <td>1</td>\n",
       "      <td>Toy Story (1995)</td>\n",
       "      <td>Adventure|Animation|Children|Comedy|Fantasy</td>\n",
       "    </tr>\n",
       "    <tr>\n",
       "      <th>1</th>\n",
       "      <td>2</td>\n",
       "      <td>Jumanji (1995)</td>\n",
       "      <td>Adventure|Children|Fantasy</td>\n",
       "    </tr>\n",
       "    <tr>\n",
       "      <th>2</th>\n",
       "      <td>3</td>\n",
       "      <td>Grumpier Old Men (1995)</td>\n",
       "      <td>Comedy|Romance</td>\n",
       "    </tr>\n",
       "    <tr>\n",
       "      <th>3</th>\n",
       "      <td>4</td>\n",
       "      <td>Waiting to Exhale (1995)</td>\n",
       "      <td>Comedy|Drama|Romance</td>\n",
       "    </tr>\n",
       "    <tr>\n",
       "      <th>4</th>\n",
       "      <td>5</td>\n",
       "      <td>Father of the Bride Part II (1995)</td>\n",
       "      <td>Comedy</td>\n",
       "    </tr>\n",
       "  </tbody>\n",
       "</table>\n",
       "</div>"
      ],
      "text/plain": [
       "   movieId                               title  \\\n",
       "0        1                    Toy Story (1995)   \n",
       "1        2                      Jumanji (1995)   \n",
       "2        3             Grumpier Old Men (1995)   \n",
       "3        4            Waiting to Exhale (1995)   \n",
       "4        5  Father of the Bride Part II (1995)   \n",
       "\n",
       "                                        genres  \n",
       "0  Adventure|Animation|Children|Comedy|Fantasy  \n",
       "1                   Adventure|Children|Fantasy  \n",
       "2                               Comedy|Romance  \n",
       "3                         Comedy|Drama|Romance  \n",
       "4                                       Comedy  "
      ]
     },
     "execution_count": 22,
     "metadata": {},
     "output_type": "execute_result"
    }
   ],
   "source": [
    "movies = pd.read_csv('dataset/movie.csv')\n",
    "movies.head()"
   ]
  },
  {
   "cell_type": "code",
   "execution_count": 23,
   "id": "57959858-95b6-4f2f-afde-d15aa002b4a2",
   "metadata": {},
   "outputs": [],
   "source": [
    "pickle.dump(movies, open('C_movies.pkl', 'wb'))"
   ]
  },
  {
   "cell_type": "code",
   "execution_count": null,
   "id": "6c67cf90-2051-4c19-9a5f-90e060faf727",
   "metadata": {},
   "outputs": [],
   "source": []
  }
 ],
 "metadata": {
  "kernelspec": {
   "display_name": ".v_env",
   "language": "python",
   "name": ".v_env"
  },
  "language_info": {
   "codemirror_mode": {
    "name": "ipython",
    "version": 3
   },
   "file_extension": ".py",
   "mimetype": "text/x-python",
   "name": "python",
   "nbconvert_exporter": "python",
   "pygments_lexer": "ipython3",
   "version": "3.10.6"
  }
 },
 "nbformat": 4,
 "nbformat_minor": 5
}
